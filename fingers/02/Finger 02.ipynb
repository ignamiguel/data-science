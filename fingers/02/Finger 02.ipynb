{
 "cells": [
  {
   "cell_type": "markdown",
   "metadata": {},
   "source": [
    "# Finger 2: Análisis Exploratorio con Apache Spark: Navent"
   ]
  },
  {
   "cell_type": "code",
   "execution_count": null,
   "metadata": {},
   "outputs": [],
   "source": [
    "## -------------------------------------------------------------- ##\n",
    "## No funciona por tener distintas versiones de python instaladas ##\n",
    "## -------------------------------------------------------------- ##\n",
    "# import pyspark\n",
    "# \n",
    "# try: \n",
    "#     type(sc)\n",
    "# except NameError:\n",
    "#     sc = pyspark.SparkContext('local[*]')    \n",
    "#    \n",
    "# type(sc)"
   ]
  },
  {
   "cell_type": "code",
   "execution_count": null,
   "metadata": {},
   "outputs": [],
   "source": [
    "import os\n",
    "print(os.environ['PYSPARK_PYTHON'])\n",
    "print(os.environ[\"PYSPARK_DRIVER_PYTHON\"])"
   ]
  },
  {
   "cell_type": "code",
   "execution_count": 1,
   "metadata": {},
   "outputs": [],
   "source": [
    "## -------------------------------------------------------------- ##\n",
    "## Usar esta configuración                                        ##\n",
    "## -------------------------------------------------------------- ##\n",
    "import pyspark\n",
    "import os\n",
    "os.environ[\"PYSPARK_PYTHON\"] = \"python3.6\"\n",
    "os.environ[\"PYSPARK_DRIVER_PYTHON\"] = \"python3.6\"\n",
    "from pyspark import SparkContext, SparkConf\n",
    "conf = SparkConf().setAppName(\"sample_app\")\n",
    "sc = SparkContext(conf=conf)"
   ]
  },
  {
   "cell_type": "markdown",
   "metadata": {},
   "source": [
    "## 1- Encontrar los 5 anuncios cuya tasa de conversión es la más alta\n",
    "(postulaciones al anuncio sobre visitas totales al anuncio)\n",
    "\n",
    "**Nota**: Tener en cuenta que es posible que por ejemplo un anuncio con una visita\n",
    "y una postulación quede primero. Para evitar este inconveniente, tomar únicamente los\n",
    "avisos que poseen al menos un 25% de las visitas promedio que poseen los avisos. Por\n",
    "ejemplo, si el promedio de visitas de los avisos es 100, tomar solo los avisos que tengan\n",
    "al menos 25 visitas.\n",
    "\n",
    "**Nota2**: Tener en cuenta también que los datos de vistas están incompletos. Solo\n",
    "podrá obtenerse la tasa de conversión para el período donde se tengan ambas\n",
    "informaciones (postulaciones y vistas)"
   ]
  },
  {
   "cell_type": "code",
   "execution_count": 2,
   "metadata": {
    "collapsed": true
   },
   "outputs": [
    {
     "data": {
      "text/plain": [
       "True"
      ]
     },
     "execution_count": 2,
     "metadata": {},
     "output_type": "execute_result"
    }
   ],
   "source": [
    "## -------------------------------------------------------------- ##\n",
    "## Controlar los paths de archivos                                ##\n",
    "## -------------------------------------------------------------- ##\n",
    "import os.path\n",
    "\n",
    "fname = '../../../finger-data/datos_navent_fiuba/fiuba_3_vistas.csv'\n",
    "os.path.isfile(fname) "
   ]
  },
  {
   "cell_type": "code",
   "execution_count": 3,
   "metadata": {},
   "outputs": [],
   "source": [
    "from pyspark.sql import SQLContext\n",
    "sqlContext = SQLContext(sc)\n",
    "\n",
    "df_vistas = sqlContext.read.csv('../../../finger-data/datos_navent_fiuba/fiuba_3_vistas.csv', header=True)"
   ]
  },
  {
   "cell_type": "code",
   "execution_count": 4,
   "metadata": {},
   "outputs": [
    {
     "data": {
      "text/plain": [
       "MapPartitionsRDD[12] at javaToPython at NativeMethodAccessorImpl.java:0"
      ]
     },
     "execution_count": 4,
     "metadata": {},
     "output_type": "execute_result"
    }
   ],
   "source": [
    "rdd_vistas = df_vistas.rdd\n",
    "rdd_vistas"
   ]
  },
  {
   "cell_type": "code",
   "execution_count": 5,
   "metadata": {},
   "outputs": [
    {
     "data": {
      "text/plain": [
       "Row(idAviso='1111780242', timestamp='2018-02-23T13:38:13.187-0500', idpostulante='YjVJQ6Z')"
      ]
     },
     "execution_count": 5,
     "metadata": {},
     "output_type": "execute_result"
    }
   ],
   "source": [
    "rdd_vistas.first()\n"
   ]
  },
  {
   "cell_type": "code",
   "execution_count": 6,
   "metadata": {},
   "outputs": [],
   "source": [
    "df_p = sqlContext.read.csv('../../../finger-data/datos_navent_fiuba/fiuba_4_postulaciones.csv', header=True)\n",
    "rdd_p = df_p.rdd"
   ]
  },
  {
   "cell_type": "code",
   "execution_count": 7,
   "metadata": {},
   "outputs": [
    {
     "data": {
      "text/plain": [
       "Row(idaviso='1112257047', idpostulante='NM5M', fechapostulacion='2018-01-15 16:22:34')"
      ]
     },
     "execution_count": 7,
     "metadata": {},
     "output_type": "execute_result"
    }
   ],
   "source": [
    "rdd_p.first()"
   ]
  },
  {
   "cell_type": "code",
   "execution_count": 8,
   "metadata": {},
   "outputs": [
    {
     "data": {
      "text/plain": [
       "3401623"
      ]
     },
     "execution_count": 8,
     "metadata": {},
     "output_type": "execute_result"
    }
   ],
   "source": [
    "rdd_p.count()"
   ]
  },
  {
   "cell_type": "code",
   "execution_count": 9,
   "metadata": {},
   "outputs": [
    {
     "data": {
      "text/plain": [
       "961897"
      ]
     },
     "execution_count": 9,
     "metadata": {},
     "output_type": "execute_result"
    }
   ],
   "source": [
    "rdd_vistas.count()"
   ]
  },
  {
   "cell_type": "markdown",
   "metadata": {},
   "source": [
    "## Obtener las vistas promedio que poseen los anuncios"
   ]
  },
  {
   "cell_type": "code",
   "execution_count": 10,
   "metadata": {},
   "outputs": [],
   "source": [
    "avisos = rdd_vistas.map(lambda a: a.idAviso).distinct()"
   ]
  },
  {
   "cell_type": "code",
   "execution_count": 17,
   "metadata": {},
   "outputs": [],
   "source": [
    "cant_avisos = avisos.count()\n",
    "cant_vistas = rdd_vistas.count()"
   ]
  },
  {
   "cell_type": "code",
   "execution_count": 18,
   "metadata": {},
   "outputs": [],
   "source": [
    "# promedio = cantidad de vistas totales / cantidad de avisos\n",
    "vistas_promedio = (cant_vistas / cant_avisos)"
   ]
  },
  {
   "cell_type": "code",
   "execution_count": 19,
   "metadata": {},
   "outputs": [
    {
     "data": {
      "text/plain": [
       "128.97519442209708"
      ]
     },
     "execution_count": 19,
     "metadata": {},
     "output_type": "execute_result"
    }
   ],
   "source": [
    "vistas_promedio"
   ]
  },
  {
   "cell_type": "code",
   "execution_count": 21,
   "metadata": {},
   "outputs": [
    {
     "data": {
      "text/plain": [
       "32.24379860552427"
      ]
     },
     "execution_count": 21,
     "metadata": {},
     "output_type": "execute_result"
    }
   ],
   "source": [
    "minima_cant_vistas = vistas_promedio * 0.25\n",
    "minima_cant_vistas"
   ]
  },
  {
   "cell_type": "markdown",
   "metadata": {},
   "source": [
    "☝️Vamos a tomar solo los anuncios que posean al menos **32** vistas"
   ]
  },
  {
   "cell_type": "markdown",
   "metadata": {},
   "source": [
    "## Obtener los datos de vistas y publicaciones para los que tengo información\n",
    "Solo podrá obtenerse la tasa de conversión para el período donde se tengan ambas informaciones (postulaciones y vistas)"
   ]
  },
  {
   "cell_type": "code",
   "execution_count": 22,
   "metadata": {},
   "outputs": [
    {
     "data": {
      "text/plain": [
       "[('2018-01-15', ('1112257047', 'NM5M')),\n",
       " ('2018-02-06', ('1111920714', 'NM5M')),\n",
       " ('2018-02-22', ('1112346945', 'NM5M')),\n",
       " ('2018-02-22', ('1112345547', 'NM5M')),\n",
       " ('2018-01-25', ('1112237522', '5awk'))]"
      ]
     },
     "execution_count": 22,
     "metadata": {},
     "output_type": "execute_result"
    }
   ],
   "source": [
    "f_postu = rdd_p.map(lambda a: (a[2][:10],(a[0],a[1])))\n",
    "f_postu.take(5)"
   ]
  },
  {
   "cell_type": "code",
   "execution_count": 24,
   "metadata": {},
   "outputs": [
    {
     "data": {
      "text/plain": [
       "[('2018-02-23', ('1111780242', 'YjVJQ6Z')),\n",
       " ('2018-02-23', ('1112263876', 'BmVpYoR')),\n",
       " ('2018-02-23', ('1112327963', 'wVkBzZd')),\n",
       " ('2018-02-23', ('1112318643', 'OqmP9pv')),\n",
       " ('2018-02-23', ('1111903673', 'DrpbXDP'))]"
      ]
     },
     "execution_count": 24,
     "metadata": {},
     "output_type": "execute_result"
    }
   ],
   "source": [
    "f_vistas = rdd_vistas.map(lambda a: (a[1][:10],(a[0],a[2])))\n",
    "f_vistas.take(5)"
   ]
  },
  {
   "cell_type": "code",
   "execution_count": 29,
   "metadata": {},
   "outputs": [
    {
     "data": {
      "text/plain": [
       "[('2018-02-25', (('1112358111', 'LNwvBpw'), ('1112291019', 'ZjL5Y5'))),\n",
       " ('2018-02-25', (('1112358111', 'LNwvBpw'), ('1112308313', 'Za46jR'))),\n",
       " ('2018-02-25', (('1112358111', 'LNwvBpw'), ('1112300327', 'Za46jR'))),\n",
       " ('2018-02-25', (('1112358111', 'LNwvBpw'), ('1112297739', 'Za46jR'))),\n",
       " ('2018-02-25', (('1112358111', 'LNwvBpw'), ('1112309851', 'Za46jR')))]"
      ]
     },
     "execution_count": 29,
     "metadata": {},
     "output_type": "execute_result"
    }
   ],
   "source": [
    "postu_vistas_joined = f_vistas.join(f_postu)\n",
    "postu_vistas_joined.take(5)"
   ]
  },
  {
   "cell_type": "markdown",
   "metadata": {},
   "source": [
    "## 2- Indicar la distribución de la edad de los postulantes\n"
   ]
  },
  {
   "cell_type": "code",
   "execution_count": 31,
   "metadata": {},
   "outputs": [],
   "source": [
    "df_postulantes = sqlContext.read.csv('../../../finger-data/datos_navent_fiuba/fiuba_2_postulantes_genero_y_edad.csv', header=True)\n",
    "rdd_postulantes = df_postulantes.rdd"
   ]
  },
  {
   "cell_type": "code",
   "execution_count": 33,
   "metadata": {},
   "outputs": [
    {
     "data": {
      "text/plain": [
       "[Row(idpostulante='NM5M', fechanacimiento='1970-12-03', sexo='FEM'),\n",
       " Row(idpostulante='5awk', fechanacimiento='1962-12-04', sexo='FEM'),\n",
       " Row(idpostulante='ZaO5', fechanacimiento='1978-08-10', sexo='FEM'),\n",
       " Row(idpostulante='NdJl', fechanacimiento='1969-05-09', sexo='MASC'),\n",
       " Row(idpostulante='eo2p', fechanacimiento='1981-02-16', sexo='MASC')]"
      ]
     },
     "execution_count": 33,
     "metadata": {},
     "output_type": "execute_result"
    }
   ],
   "source": [
    "rdd_postulantes.take(5)"
   ]
  },
  {
   "cell_type": "code",
   "execution_count": 62,
   "metadata": {},
   "outputs": [
    {
     "data": {
      "text/plain": [
       "[10, -1]"
      ]
     },
     "execution_count": 62,
     "metadata": {},
     "output_type": "execute_result"
    }
   ],
   "source": [
    "# Existen fechas de nacimientos nulas :(\n",
    "rdd_postulantes.map(lambda row: len(row[1]) if row[1] != None else -1).distinct().collect()"
   ]
  },
  {
   "cell_type": "code",
   "execution_count": null,
   "metadata": {},
   "outputs": [],
   "source": []
  },
  {
   "cell_type": "code",
   "execution_count": 65,
   "metadata": {},
   "outputs": [],
   "source": [
    "edades = rdd_postulantes.map(lambda row: row[1][:4] if row[1] != None else '0')\\\n",
    "                .map(lambda row: (row, 1))\\\n",
    "               .reduceByKey(lambda a,b: a + b).collect()"
   ]
  },
  {
   "cell_type": "code",
   "execution_count": 76,
   "metadata": {},
   "outputs": [
    {
     "data": {
      "text/plain": [
       "[('1991', 11925),\n",
       " ('1992', 11780),\n",
       " ('1993', 11718),\n",
       " ('1994', 11570),\n",
       " ('1990', 11064),\n",
       " ('1995', 10902),\n",
       " ('1996', 9944),\n",
       " ('1989', 9914),\n",
       " ('1988', 9161),\n",
       " ('1997', 8525),\n",
       " ('1987', 8283),\n",
       " ('1986', 7644),\n",
       " ('1985', 6673),\n",
       " ('1998', 6466),\n",
       " ('1984', 5871),\n",
       " ('1983', 5447),\n",
       " ('1982', 5018),\n",
       " ('0', 4750),\n",
       " ('1981', 4655),\n",
       " ('1980', 4189),\n",
       " ('1979', 3879),\n",
       " ('1999', 3654),\n",
       " ('1978', 3379),\n",
       " ('1977', 2938),\n",
       " ('1976', 2624),\n",
       " ('1975', 2368),\n",
       " ('1974', 1965),\n",
       " ('1973', 1688),\n",
       " ('1972', 1566),\n",
       " ('1971', 1451),\n",
       " ('1970', 1288),\n",
       " ('1969', 1088),\n",
       " ('1968', 945),\n",
       " ('1967', 874),\n",
       " ('1966', 748),\n",
       " ('1965', 669),\n",
       " ('1964', 637),\n",
       " ('2000', 581),\n",
       " ('1963', 554),\n",
       " ('1962', 474),\n",
       " ('1961', 449),\n",
       " ('1960', 373),\n",
       " ('1959', 284),\n",
       " ('1958', 234),\n",
       " ('1957', 184),\n",
       " ('1956', 160),\n",
       " ('1955', 96),\n",
       " ('1954', 72),\n",
       " ('1953', 37),\n",
       " ('1952', 30),\n",
       " ('1950', 29),\n",
       " ('1951', 20),\n",
       " ('1949', 12),\n",
       " ('1948', 9),\n",
       " ('1947', 7),\n",
       " ('1944', 3),\n",
       " ('1942', 3),\n",
       " ('1943', 2),\n",
       " ('1946', 2),\n",
       " ('0029', 1),\n",
       " ('1939', 1),\n",
       " ('1941', 1),\n",
       " ('0033', 1),\n",
       " ('0011', 1),\n",
       " ('1921', 1),\n",
       " ('2006', 1),\n",
       " ('0031', 1),\n",
       " ('0024', 1),\n",
       " ('0012', 1),\n",
       " ('0004', 1),\n",
       " ('1775', 1),\n",
       " ('1917', 1)]"
      ]
     },
     "execution_count": 76,
     "metadata": {},
     "output_type": "execute_result"
    }
   ],
   "source": [
    "sorted(edades, key=lambda x: x[1], reverse=True)"
   ]
  },
  {
   "cell_type": "code",
   "execution_count": null,
   "metadata": {},
   "outputs": [],
   "source": [
    "import numpy as np\n",
    "import matplotlib.pyplot as plt\n",
    "import seaborn as sns\n",
    "\n",
    "%matplotlib inline\n",
    "\n",
    "days = [t[0] for t in day_of_week_crimes]\n",
    "y_pos = np.arange(len(days))\n",
    "crimes = [t[1] for t in day_of_week_crimes]\n",
    "\n",
    "plt.barh(y_pos, crimes)\n",
    "plt.yticks(y_pos, days)\n",
    "plt.xlabel('Crimes')\n",
    "plt.title('Crimenes por dia de la semana')\n",
    "\n",
    "plt.show()"
   ]
  },
  {
   "cell_type": "code",
   "execution_count": 51,
   "metadata": {},
   "outputs": [
    {
     "data": {
      "text/plain": [
       "[('a', 2), ('b', 1)]"
      ]
     },
     "execution_count": 51,
     "metadata": {},
     "output_type": "execute_result"
    }
   ],
   "source": [
    "from operator import add\n",
    "rdd = sc.parallelize([(\"a\", 1), (\"b\", 1), (\"a\", 1)])\n",
    "sorted(rdd.reduceByKey(add).collect())\n"
   ]
  },
  {
   "cell_type": "markdown",
   "metadata": {},
   "source": [
    "## 3- Realizar una visualización que nos permita analizar la evolución de cantidad de visitas por día y el nivel de estudio alcanzado por el postulante. \n",
    "El tipo de visualización será propuesto por el alumno\n",
    "\n",
    "**Nota**: Tener en cuenta que el nivel educativo del postulante dependerá de si el\n",
    "mismo fue completado, abandonado etc, por lo que para definir un nivel de estudio\n",
    "alcanzado hay que considerar tanto el nivel de estudios como el estado en el que se\n",
    "encuentra para el postulante: (Por ejemplo “Universitario En Curso” o “Universitario\n",
    "Abandonado” son casos válidos)."
   ]
  },
  {
   "cell_type": "code",
   "execution_count": null,
   "metadata": {},
   "outputs": [],
   "source": []
  }
 ],
 "metadata": {
  "kernelspec": {
   "display_name": "Python 3",
   "language": "python",
   "name": "python3"
  },
  "language_info": {
   "codemirror_mode": {
    "name": "ipython",
    "version": 3
   },
   "file_extension": ".py",
   "mimetype": "text/x-python",
   "name": "python",
   "nbconvert_exporter": "python",
   "pygments_lexer": "ipython3",
   "version": "3.6.4"
  }
 },
 "nbformat": 4,
 "nbformat_minor": 2
}
