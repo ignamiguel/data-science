{
 "cells": [
  {
   "cell_type": "markdown",
   "metadata": {},
   "source": [
    "# 2C 2017\n",
    "# Enunciado\n",
    "Se cuenta con un RDD con información sobre patentamientos de autos con la siguiente información:\n",
    "(patente, marca, modelo,versión, tipo_vehiculo, provincia, fecha), \n",
    "donde **tipo_vehiculo** indica si la unidad patentada es auto, pickup, camión o moto.\n",
    "\n",
    "Se pide generar un programa en pySpark que indique la marca y modelo del auto más patentado por tipo de vehículo en la provincia de Buenos Aires en el mes de Abril de 2017."
   ]
  },
  {
   "cell_type": "code",
   "execution_count": null,
   "metadata": {},
   "outputs": [],
   "source": [
    "## -------------------------------------------------------------- ##\n",
    "## Configuración para MAC                                         ##\n",
    "## con múltiples versiones de python                              ##\n",
    "## -------------------------------------------------------------- ##\n",
    "import pyspark\n",
    "import os\n",
    "os.environ[\"PYSPARK_PYTHON\"] = \"python3.6\"\n",
    "os.environ[\"PYSPARK_DRIVER_PYTHON\"] = \"python3.6\"\n",
    "from pyspark import SparkContext, SparkConf\n",
    "conf = SparkConf().setAppName(\"sample_app\")\n",
    "sc = SparkContext(conf=conf)"
   ]
  },
  {
   "cell_type": "code",
   "execution_count": 99,
   "metadata": {},
   "outputs": [],
   "source": [
    "from pyspark.sql import SQLContext\n",
    "sqlContext = SQLContext(sc)\n",
    "\n",
    "data_path = 'data';\n",
    "\n",
    "df_patentamientos = sqlContext.read.csv(data_path + '/patentamientos.csv', header=True)"
   ]
  },
  {
   "cell_type": "code",
   "execution_count": 100,
   "metadata": {},
   "outputs": [
    {
     "data": {
      "text/plain": [
       "MapPartitionsRDD[210] at javaToPython at NativeMethodAccessorImpl.java:0"
      ]
     },
     "execution_count": 100,
     "metadata": {},
     "output_type": "execute_result"
    }
   ],
   "source": [
    "rdd_patentamientos = df_patentamientos.rdd\n",
    "rdd_patentamientos"
   ]
  },
  {
   "cell_type": "code",
   "execution_count": 101,
   "metadata": {},
   "outputs": [
    {
     "data": {
      "text/plain": [
       "Row(patente='AAA111', marca='VW', modelo='GOL', version='Confort-line', tipo_vehiculo='auto', provincia='BS AS', fecha='2017-04-01')"
      ]
     },
     "execution_count": 101,
     "metadata": {},
     "output_type": "execute_result"
    }
   ],
   "source": [
    "rdd_patentamientos.first()"
   ]
  },
  {
   "cell_type": "code",
   "execution_count": null,
   "metadata": {},
   "outputs": [],
   "source": [
    "rdd_patentamientos.collect()"
   ]
  },
  {
   "cell_type": "code",
   "execution_count": 102,
   "metadata": {},
   "outputs": [
    {
     "data": {
      "text/plain": [
       "[Row(patente='AAA111', marca='VW', modelo='GOL', version='Confort-line', tipo_vehiculo='auto', provincia='BS AS', fecha='2017-04-01')]"
      ]
     },
     "execution_count": 102,
     "metadata": {},
     "output_type": "execute_result"
    }
   ],
   "source": [
    "rdd_patentamientos.filter(lambda a: (a[5] == \"BS AS\") and (a[6] >= \"2017-04-01\" or a[6] <= \"2017-04-30\")).take(1)"
   ]
  },
  {
   "cell_type": "code",
   "execution_count": 103,
   "metadata": {},
   "outputs": [],
   "source": [
    "## -------------------------------------------------------------- ##\n",
    "## Es posible agregar .cache()                                    ##\n",
    "## para evitar el filtrado cada vez que usamos el rdd_filtered    ##\n",
    "## -------------------------------------------------------------- ##\n",
    "rdd_filtered = rdd_patentamientos.filter(lambda a: (a[5] == \"BS AS\") and (a[6] >= \"2017-04-01\" or a[6] <= \"2017-04-30\"))"
   ]
  },
  {
   "cell_type": "code",
   "execution_count": 104,
   "metadata": {},
   "outputs": [],
   "source": [
    "rdd_grouped = rdd_filtered.map(lambda x: ((x[1], x[2], x[3], x[4]), 1))\\\n",
    "            .reduceByKey(lambda x, y: x + y)\n",
    "            "
   ]
  },
  {
   "cell_type": "code",
   "execution_count": null,
   "metadata": {},
   "outputs": [],
   "source": [
    "rdd_grouped.collect()"
   ]
  },
  {
   "cell_type": "code",
   "execution_count": 105,
   "metadata": {},
   "outputs": [
    {
     "data": {
      "text/plain": [
       "[(('VW', 'GOL', 'auto'), ('Confort-line', 5)),\n",
       " (('VW', 'GOL', 'auto'), ('Trend-line', 2)),\n",
       " (('VW', 'GOL', 'auto'), ('Power', 2)),\n",
       " (('VW', 'AMAROK', 'pickup'), ('Confort-line', 1)),\n",
       " (('VW', 'AMAROK', 'pickup'), ('Trend-line', 1)),\n",
       " (('VW', 'AMAROK', 'pickup'), ('Power', 1)),\n",
       " (('RENAULT', 'CLIO', 'auto'), ('Confort-line', 2)),\n",
       " (('RENAULT', 'CLIO', 'auto'), ('Trend-line', 2)),\n",
       " (('RENAULT', 'CLIO', 'auto'), ('Power', 6)),\n",
       " (('RENAULT', 'DUSTER', 'pickup'), ('Confort-line', 1)),\n",
       " (('RENAULT', 'DUSTER', 'pickup'), ('Trend-line', 1)),\n",
       " (('HONDA', '207', 'moto'), ('Full', 2)),\n",
       " (('SCANIA', 'MOD-1', 'camión'), ('Full', 2))]"
      ]
     },
     "execution_count": 105,
     "metadata": {},
     "output_type": "execute_result"
    }
   ],
   "source": [
    "rdd_grouped.map(lambda x: ((x[0][0], x[0][1], x[0][3]), (x[0][2], x[1]))).collect()"
   ]
  },
  {
   "cell_type": "code",
   "execution_count": 106,
   "metadata": {},
   "outputs": [],
   "source": [
    "rdd_max = rdd_grouped.map(lambda x: ((x[0][0], x[0][1], x[0][3]), (x[0][2], x[1])))\\\n",
    "           .reduceByKey(lambda x, y: x if (x[1] >= y[1]) else y)"
   ]
  },
  {
   "cell_type": "code",
   "execution_count": 107,
   "metadata": {},
   "outputs": [
    {
     "data": {
      "text/plain": [
       "6"
      ]
     },
     "execution_count": 107,
     "metadata": {},
     "output_type": "execute_result"
    }
   ],
   "source": [
    "rdd_max.count()"
   ]
  },
  {
   "cell_type": "code",
   "execution_count": 108,
   "metadata": {},
   "outputs": [
    {
     "data": {
      "text/plain": [
       "[(('VW', 'GOL', 'auto'), ('Confort-line', 5)),\n",
       " (('VW', 'AMAROK', 'pickup'), ('Confort-line', 1)),\n",
       " (('RENAULT', 'CLIO', 'auto'), ('Power', 6)),\n",
       " (('RENAULT', 'DUSTER', 'pickup'), ('Confort-line', 1)),\n",
       " (('HONDA', '207', 'moto'), ('Full', 2)),\n",
       " (('SCANIA', 'MOD-1', 'camión'), ('Full', 2))]"
      ]
     },
     "execution_count": 108,
     "metadata": {},
     "output_type": "execute_result"
    }
   ],
   "source": [
    "rdd_max.collect()"
   ]
  },
  {
   "cell_type": "markdown",
   "metadata": {},
   "source": [
    "---------------------------------------------------------------------------------------\n",
    "---------------------------------------------------------------------------------------\n",
    "# 1C 2017\n",
    "# Enunciado\n",
    "\n",
    "Se tiene información estadística de la temporada regular de todos los jugadores de la NBA en un RDD de tuplas con el siguiente formato:\n",
    "\n",
    "```\n",
    "(id_jugador, nombre, promedio_puntos, promedio_asistencias, promedio_robos, promedio_bloqueos, promedio_rebotes, promedio_faltas) \n",
    "```\n",
    "\n",
    "Un analista de la cadena ESPN está trabajando con un RDD que corresponde a la primera ronda de playoffs y que tiene el siguiente formato: \n",
    "\n",
    "```\n",
    "(id_jugador, id_partido, timestamp, cantidad_puntos, cantidad_rebotes, cantidad_bloqueos, cantidad_robos, cantidad_asistencias, cantidad_faltas) \n",
    "```\n",
    "\n",
    "En base a estos RDDs se quiere programar en PySpark un programa que genere un RDD con los nombres (sin duplicados) de los jugadores que lograron en algún partido de playoffs una cantidad de asistencias mayor a su promedio histórico.\n"
   ]
  },
  {
   "cell_type": "code",
   "execution_count": 148,
   "metadata": {},
   "outputs": [],
   "source": [
    "temporada_regular = [\n",
    "    (\"1938\", \"Emanuel Ginobili\", 8.9, 2.5, 2.2, 15.9, 2.2, 3.4),\n",
    "    (\"2544\", \"LeBron James\", 27.5, 9.1, 1.9, 9.4, 9.1, 2.4),\n",
    "    (\"201142\", \"Kevin Durant\", 26.4, 5.4, 1.9, 1.0, 8.0, 1.7),\n",
    "    (\"201566\", \"Russell Westbrook\", 25.4, 10.3, 1.5, 1.0, 12.0, 3.5)\n",
    "]\n",
    "\n",
    "playoffs = [\n",
    "    (\"1938\", \"1\", 1526245886, 10, 2, 2, 15, 2, 3),\n",
    "    (\"2544\", \"1\", 1526245886, 27, 9, 1, 9, 9, 2),\n",
    "    (\"201142\", \"2\", 1526245886, 25, 10, 1, 1, 9, 2),\n",
    "    (\"201566\", \"2\", 1526245886, 27, 9, 1, 9, 9, 2)\n",
    "]"
   ]
  },
  {
   "cell_type": "code",
   "execution_count": 149,
   "metadata": {},
   "outputs": [],
   "source": [
    "temporada_regular_rdd = sc.parallelize(temporada_regular)\n",
    "playoffs_rdd = sc.parallelize(playoffs)"
   ]
  },
  {
   "cell_type": "code",
   "execution_count": 178,
   "metadata": {},
   "outputs": [],
   "source": [
    "rdd_asist_hist = temporada_regular_rdd.map(lambda x: (x[0], (x[1], x[3])))\n",
    "rdd_asist_playoffs = playoffs_rdd.map(lambda x: (x[0], (x[1], x[7])))"
   ]
  },
  {
   "cell_type": "code",
   "execution_count": 179,
   "metadata": {},
   "outputs": [
    {
     "data": {
      "text/plain": [
       "[('1938', ('Emanuel Ginobili', '2.5')),\n",
       " ('2544', ('LeBron James', '9.1')),\n",
       " ('201142', ('Kevin Durant', '5.4')),\n",
       " ('201566', ('Russell Westbrook', '10.3'))]"
      ]
     },
     "execution_count": 179,
     "metadata": {},
     "output_type": "execute_result"
    }
   ],
   "source": [
    "rdd_asist_hist.collect()"
   ]
  },
  {
   "cell_type": "code",
   "execution_count": 180,
   "metadata": {},
   "outputs": [
    {
     "data": {
      "text/plain": [
       "[('1938', ('1', '2')),\n",
       " ('2544', ('1', '9')),\n",
       " ('201142', ('2', '9')),\n",
       " ('201566', ('2', '9'))]"
      ]
     },
     "execution_count": 180,
     "metadata": {},
     "output_type": "execute_result"
    }
   ],
   "source": [
    "rdd_asist_playoffs.collect()"
   ]
  },
  {
   "cell_type": "code",
   "execution_count": 181,
   "metadata": {},
   "outputs": [],
   "source": [
    "rdd_joined = rdd_asist_playoffs.join(rdd_asist_hist)"
   ]
  },
  {
   "cell_type": "code",
   "execution_count": 182,
   "metadata": {},
   "outputs": [
    {
     "data": {
      "text/plain": [
       "[('2544', (('1', '9'), ('LeBron James', '9.1'))),\n",
       " ('1938', (('1', '2'), ('Emanuel Ginobili', '2.5'))),\n",
       " ('201142', (('2', '9'), ('Kevin Durant', '5.4'))),\n",
       " ('201566', (('2', '9'), ('Russell Westbrook', '10.3')))]"
      ]
     },
     "execution_count": 182,
     "metadata": {},
     "output_type": "execute_result"
    }
   ],
   "source": [
    "rdd_joined.collect()"
   ]
  },
  {
   "cell_type": "code",
   "execution_count": 187,
   "metadata": {},
   "outputs": [
    {
     "data": {
      "text/plain": [
       "[('201142', (('2', '9'), ('Kevin Durant', '5.4'))),\n",
       " ('201566', (('2', '9'), ('Russell Westbrook', '10.3')))]"
      ]
     },
     "execution_count": 187,
     "metadata": {},
     "output_type": "execute_result"
    }
   ],
   "source": [
    "rdd_joined.filter(lambda x: x[1][0][1] >= x[1][1][1]).collect()"
   ]
  },
  {
   "cell_type": "markdown",
   "metadata": {},
   "source": [
    "---------------------------------------------------------------------------------------\n",
    "---------------------------------------------------------------------------------------\n",
    "\n",
    "# 1C 2016\n",
    "# Enunciado\n",
    "UBER almacena en un cluster todos los datos sobre el movimiento y viajes de todos sus vehículos.\n",
    "\n",
    "Existe un proceso que nos devuelve un RDD llamado **trip_summary** con los siguientes campos: (driver_id, car_id, trip_id, customer_id, date (YYYYMMDD), distance_traveled)\n",
    "\n",
    "Programar usando Py Spark un programa que nos indique cual fue el conductor con mayor promedio de distancia recorrida por viaje para Abril de 2016."
   ]
  },
  {
   "cell_type": "code",
   "execution_count": 121,
   "metadata": {},
   "outputs": [],
   "source": [
    "trip_summary = [\n",
    "    (\"driver-1\", \"car-1\", \"trip-1\", \"customer Pepe\", \"20160401\", 10),\n",
    "    (\"driver-2\", \"car-2\", \"trip-2\", \"customer Lalo\", \"20160401\", 5),\n",
    "    (\"driver-3\", \"car-3\", \"trip-3\", \"customer Pablo\", \"20160401\", 7),\n",
    "    (\"driver-1\", \"car-1\", \"trip-4\", \"customer Paco\", \"20160402\", 3),\n",
    "    (\"driver-2\", \"car-2\", \"trip-5\", \"customer Fito\", \"20160402\", 12),\n",
    "    (\"driver-4\", \"car-4\", \"trip-6\", \"customer Facu\", \"20160401\", 14),\n",
    "]"
   ]
  },
  {
   "cell_type": "code",
   "execution_count": 122,
   "metadata": {},
   "outputs": [],
   "source": [
    "data = sc.parallelize(trip_summary)"
   ]
  },
  {
   "cell_type": "code",
   "execution_count": 123,
   "metadata": {},
   "outputs": [
    {
     "data": {
      "text/plain": [
       "[('driver-1', 'car-1', 'trip-1', 'customer Pepe', '20160401', 10),\n",
       " ('driver-2', 'car-2', 'trip-2', 'customer Lalo', '20160401', 5),\n",
       " ('driver-3', 'car-3', 'trip-3', 'customer Pablo', '20160401', 7),\n",
       " ('driver-1', 'car-1', 'trip-4', 'customer Paco', '20160402', 3),\n",
       " ('driver-2', 'car-2', 'trip-5', 'customer Fito', '20160402', 12),\n",
       " ('driver-4', 'car-4', 'trip-6', 'customer Facu', '20160401', 14)]"
      ]
     },
     "execution_count": 123,
     "metadata": {},
     "output_type": "execute_result"
    }
   ],
   "source": [
    "data.collect()"
   ]
  },
  {
   "cell_type": "code",
   "execution_count": 126,
   "metadata": {},
   "outputs": [],
   "source": [
    "## Filtrar los viajes de Abril 2016\n",
    "rdd_filtered = data.filter(lambda x: (x[4] >= \"20160401\") and (x[4] <= \"20160430\"))"
   ]
  },
  {
   "cell_type": "code",
   "execution_count": 127,
   "metadata": {},
   "outputs": [
    {
     "data": {
      "text/plain": [
       "[('driver-1', 'car-1', 'trip-1', 'customer Pepe', '20160401', 10),\n",
       " ('driver-2', 'car-2', 'trip-2', 'customer Lalo', '20160401', 5),\n",
       " ('driver-3', 'car-3', 'trip-3', 'customer Pablo', '20160401', 7),\n",
       " ('driver-1', 'car-1', 'trip-4', 'customer Paco', '20160402', 3),\n",
       " ('driver-2', 'car-2', 'trip-5', 'customer Fito', '20160402', 12),\n",
       " ('driver-4', 'car-4', 'trip-6', 'customer Facu', '20160401', 14)]"
      ]
     },
     "execution_count": 127,
     "metadata": {},
     "output_type": "execute_result"
    }
   ],
   "source": [
    "rdd_filtered.collect()"
   ]
  },
  {
   "cell_type": "code",
   "execution_count": 131,
   "metadata": {},
   "outputs": [],
   "source": [
    "## Agrupar los drivers, sumando distancia y contando cantidad de viajes\n",
    "rdd_drivers = rdd_filtered.map(lambda x: (x[0], (x[5], 1)))\\\n",
    "            .reduceByKey(lambda x, y: (x[0] + y[0], x[1] + y[1]))"
   ]
  },
  {
   "cell_type": "code",
   "execution_count": 137,
   "metadata": {},
   "outputs": [],
   "source": [
    "## Opcional: filtar por los drivers que tengan >= n viajes\n",
    "n = 1\n",
    "rdd_drivers_filtered = rdd_drivers.filter(lambda x: x[1][1] >= n)"
   ]
  },
  {
   "cell_type": "code",
   "execution_count": 138,
   "metadata": {},
   "outputs": [
    {
     "data": {
      "text/plain": [
       "[('driver-1', (13, 2)),\n",
       " ('driver-4', (14, 1)),\n",
       " ('driver-2', (17, 2)),\n",
       " ('driver-3', (7, 1))]"
      ]
     },
     "execution_count": 138,
     "metadata": {},
     "output_type": "execute_result"
    }
   ],
   "source": [
    "rdd_drivers_filtered.collect()"
   ]
  },
  {
   "cell_type": "code",
   "execution_count": 142,
   "metadata": {},
   "outputs": [
    {
     "data": {
      "text/plain": [
       "('driver-4', 14.0)"
      ]
     },
     "execution_count": 142,
     "metadata": {},
     "output_type": "execute_result"
    }
   ],
   "source": [
    "## Reducir hasta quedarme con el driver con mayor promedio de distancia recorrida\n",
    "rdd_drivers_filtered.map(lambda x: (x[0], x[1][0]/x[1][1]))\\\n",
    "                    .reduce(lambda x, y: x if (x[1] >= y[1]) else y)"
   ]
  },
  {
   "cell_type": "code",
   "execution_count": null,
   "metadata": {},
   "outputs": [],
   "source": []
  }
 ],
 "metadata": {
  "kernelspec": {
   "display_name": "Python 3",
   "language": "python",
   "name": "python3"
  },
  "language_info": {
   "codemirror_mode": {
    "name": "ipython",
    "version": 3
   },
   "file_extension": ".py",
   "mimetype": "text/x-python",
   "name": "python",
   "nbconvert_exporter": "python",
   "pygments_lexer": "ipython3",
   "version": "3.6.4"
  }
 },
 "nbformat": 4,
 "nbformat_minor": 2
}
