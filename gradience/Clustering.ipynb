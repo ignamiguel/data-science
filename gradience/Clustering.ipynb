{
 "cells": [
  {
   "cell_type": "markdown",
   "metadata": {},
   "source": [
    "## 1) Realizar un clustering jerárquico de los siguientes puntos"
   ]
  },
  {
   "cell_type": "code",
   "execution_count": 1,
   "metadata": {},
   "outputs": [],
   "source": [
    "A = (0, 0)\n",
    "B = (10, 10)\n",
    "C = (21, 21)\n",
    "D = (33, 33)\n",
    "E = (5, 27)\n",
    "F = (28, 6)"
   ]
  },
  {
   "cell_type": "code",
   "execution_count": 2,
   "metadata": {},
   "outputs": [],
   "source": [
    "import math\n",
    "\n",
    "def dist(x, y):\n",
    "    d = 0\n",
    "    for c in range(len(x)):\n",
    "        d = d + math.pow((x[c] - y[c]), 2)\n",
    "    return math.sqrt(d)"
   ]
  },
  {
   "cell_type": "code",
   "execution_count": 25,
   "metadata": {},
   "outputs": [
    {
     "name": "stdout",
     "output_type": "stream",
     "text": [
      "dist(A, B) = 14.142135623730951\n",
      "dist(A, C) = 29.698484809834994\n",
      "dist(A, D) = 46.66904755831214\n",
      "dist(A, E) = 27.459060435491963\n",
      "dist(A, F) = 28.635642126552707\n",
      "dist(B, C) = 15.556349186104045\n",
      "dist(B, D) = 32.526911934581186\n",
      "dist(B, E) = 17.72004514666935\n",
      "dist(B, F) = 18.439088914585774\n",
      "dist(C, D) = 16.97056274847714\n",
      "dist(C, E) = 17.08800749063506\n",
      "dist(C, F) = 16.55294535724685\n",
      "dist(D, E) = 28.635642126552707\n",
      "dist(D, F) = 27.459060435491963\n",
      "dist(E, F) = 31.144823004794873\n",
      "##########################\n",
      "('dist(A,A)', 0.0)\n",
      "('dist(B,B)', 0.0)\n",
      "('dist(C,C)', 0.0)\n",
      "('dist(D,D)', 0.0)\n",
      "('dist(E,E)', 0.0)\n",
      "('dist(F,F)', 0.0)\n",
      "('dist(A,B)', 14.142135623730951)\n",
      "('dist(B,C)', 15.556349186104045)\n",
      "('dist(C,F)', 16.55294535724685)\n",
      "('dist(C,D)', 16.97056274847714)\n",
      "('dist(C,E)', 17.08800749063506)\n",
      "('dist(B,E)', 17.72004514666935)\n",
      "('dist(B,F)', 18.439088914585774)\n",
      "('dist(A,E)', 27.459060435491963)\n",
      "('dist(D,F)', 27.459060435491963)\n",
      "('dist(A,F)', 28.635642126552707)\n",
      "('dist(D,E)', 28.635642126552707)\n",
      "('dist(A,C)', 29.698484809834994)\n",
      "('dist(E,F)', 31.144823004794873)\n",
      "('dist(B,D)', 32.526911934581186)\n",
      "('dist(A,D)', 46.66904755831214)\n"
     ]
    }
   ],
   "source": [
    "l = [A, B, C, D, E, F]\n",
    "\n",
    "def calcDis(ptos):\n",
    "    d = []\n",
    "    letters = [\"A\", \"B\", \"C\", \"D\", \"E\", \"F\"]\n",
    "    for i in range(len(ptos)):\n",
    "        fromP = letters[i]\n",
    "        x = ptos[i]\n",
    "        for j in range(len(ptos) - i):\n",
    "            j = j + i\n",
    "            toP = letters[j]\n",
    "            y = ptos[j]\n",
    "            e = (\"dist(\"+ fromP + \",\" + toP + \")\", dist(x, y))\n",
    "            d.append(e)\n",
    "    ordered = sorted(d, key=lambda tup: tup[1])\n",
    "    for i in range(len(ordered)):\n",
    "        print(ordered[i])\n",
    "        \n",
    "        \n",
    "print(\"dist(A, B) =\", dist(A, B))\n",
    "print(\"dist(A, C) =\", dist(A, C))\n",
    "print(\"dist(A, D) =\", dist(A, D))\n",
    "print(\"dist(A, E) =\", dist(A, E))\n",
    "print(\"dist(A, F) =\", dist(A, F))\n",
    "print(\"dist(B, C) =\", dist(B, C))\n",
    "print(\"dist(B, D) =\", dist(B, D))\n",
    "print(\"dist(B, E) =\", dist(B, E))\n",
    "print(\"dist(B, F) =\", dist(B, F))\n",
    "print(\"dist(C, D) =\", dist(C, D))\n",
    "print(\"dist(C, E) =\", dist(C, E))\n",
    "print(\"dist(C, F) =\", dist(C, F))\n",
    "print(\"dist(D, E) =\", dist(D, E))\n",
    "print(\"dist(D, F) =\", dist(D, F))\n",
    "print(\"dist(E, F) =\", dist(E, F))\n",
    "print(\"##########################\")\n",
    "calcDis(l)"
   ]
  },
  {
   "cell_type": "markdown",
   "metadata": {},
   "source": [
    "## 2) Clusteroide \n",
    "Un clusteroide es un centroide que a su vez es tambien un punto del cluster. Suponga que el clusteroide de un cluster se define como el punto que tiene la mínima suma de los cuadrados de las distancias entre todos los puntos del cluster. Dados los siguientes puntos: a = (1,6); b = (3,7); c = (4,3); d = (7,7), e = (8,2); f = (9,5). Identificar cual de las opciones es la correcta."
   ]
  },
  {
   "cell_type": "code",
   "execution_count": 31,
   "metadata": {},
   "outputs": [
    {
     "name": "stdout",
     "output_type": "stream",
     "text": [
      "El clusteroide de {c,d,e,f} es\n",
      "('pto=f', 47.0)\n",
      "('pto=e', 53.0)\n",
      "('pto=d', 59.0)\n",
      "('pto=c', 71.0)\n",
      "##########################\n",
      "El clusteroide de {a,b,c,d} es\n",
      "('pto=b', 38.0)\n",
      "('pto=a', 59.999999999999986)\n",
      "('pto=c', 60.0)\n",
      "('pto=d', 78.0)\n",
      "##########################\n",
      "El clusteroide de {b,c,d,e} es\n",
      "('pto=c', 59.0)\n",
      "('pto=d', 67.0)\n",
      "('pto=b', 83.0)\n",
      "('pto=e', 93.0)\n",
      "##########################\n",
      "El clusteroide de {a,b,e,f} es\n",
      "('pto=b', 95.00000000000001)\n",
      "('pto=f', 115.0)\n",
      "('pto=e', 125.0)\n",
      "('pto=a', 134.99999999999997)\n"
     ]
    }
   ],
   "source": [
    "import math\n",
    "\n",
    "a = (\"a\", (1,6))\n",
    "b = (\"b\", (3,7))\n",
    "c = (\"c\", (4,3))\n",
    "d = (\"d\", (7,7))\n",
    "e = (\"e\", (8,2))\n",
    "f = (\"f\", (9,5))\n",
    "\n",
    "def caclCentroide(ptos):\n",
    "    d = []\n",
    "    for i in range(len(ptos)):\n",
    "        total = 0\n",
    "        fromP = ptos[i][0]\n",
    "        x = ptos[i][1]\n",
    "        for j in range(len(ptos)):\n",
    "            toP = ptos[j][0]\n",
    "            y = ptos[j][1]\n",
    "            dd = dist(x, y)\n",
    "            total = total + math.pow(dd, 2)\n",
    "        e = (\"pto=\"+ fromP, total)\n",
    "        d.append(e)\n",
    "    ordered = sorted(d, key=lambda tup: tup[1])\n",
    "    for i in range(len(ordered)):\n",
    "        print(ordered[i])\n",
    "\n",
    "op1 = [c,d,e,f]\n",
    "op2 = [a,b,c,d]\n",
    "op3 = [b,c,d,e]\n",
    "op4 = [a,b,e,f]\n",
    "\n",
    "print(\"El clusteroide de {c,d,e,f} es\")\n",
    "caclCentroide(op1)\n",
    "print(\"##########################\")\n",
    "print(\"El clusteroide de {a,b,c,d} es\")\n",
    "caclCentroide(op2)\n",
    "print(\"##########################\")\n",
    "print(\"El clusteroide de {b,c,d,e} es\")\n",
    "caclCentroide(op3)\n",
    "print(\"##########################\")\n",
    "print(\"El clusteroide de {a,b,e,f} es\")\n",
    "caclCentroide(op4)"
   ]
  },
  {
   "cell_type": "markdown",
   "metadata": {},
   "source": [
    "## 5) Queremos generar 10 clusters. \n",
    "(k=10). Los 10 puntos de color verde son los centroides(clusteroides) se pide asignar cada uno de los puntos dorados al centroide mas cercano y luego recalcular los centroides de cada cluster. Verificar si luego de recalcular los centroides alguno de los puntos previamente asignados cambia de cluster. Por favor notar que las escalas de los ejes son diferentes asi que hace falta hacer las cuentas para calcular las distancias."
   ]
  },
  {
   "cell_type": "code",
   "execution_count": 86,
   "metadata": {},
   "outputs": [],
   "source": [
    "clusters = [(\"c1\", (25, 125), []),\\\n",
    "           (\"c2\", (44, 105), []),\\\n",
    "           (\"c3\", (29, 97), []),\\\n",
    "           (\"c4\", (35, 63), []),\\\n",
    "           (\"c5\", (55, 63), []),\\\n",
    "           (\"c6\", (42, 57), []),\\\n",
    "           (\"c7\", (23, 40), []),\\\n",
    "           (\"c8\", (64, 37), []),\\\n",
    "           (\"c9\", (33, 22), []),\\\n",
    "           (\"c10\", (55, 20), [])] \n",
    "\n",
    "pp = [(25, 125), (44, 105), (29, 97), (35, 63), (55, 63), (42, 57), (23, 40), (64, 37), (33, 22), (55, 20), (28, 145),\\\n",
    "      (65, 140), (50, 130), (38, 115), (55, 118), (50, 90), (63, 88), (43, 83), (50, 60), (50, 30)]"
   ]
  },
  {
   "cell_type": "code",
   "execution_count": 85,
   "metadata": {},
   "outputs": [
    {
     "data": {
      "text/plain": [
       "20"
      ]
     },
     "execution_count": 85,
     "metadata": {},
     "output_type": "execute_result"
    }
   ],
   "source": [
    "len(pp)"
   ]
  },
  {
   "cell_type": "code",
   "execution_count": 87,
   "metadata": {},
   "outputs": [],
   "source": [
    "# Asignar cada uno de los puntos dorados al centroide mas cercano\n",
    "def asignar(p, cs):\n",
    "    minDist = 1000\n",
    "    index = 0\n",
    "    # Voy a calcular la distancia de p a todos los centroides\n",
    "    for i in range(len(cs)):\n",
    "        centroide = cs[i][1]\n",
    "        d = dist(p, centroide)\n",
    "        if (d < minDist):\n",
    "            minDist = d\n",
    "            index = i\n",
    "    # Al final asigno p al cluster de menor distancia\n",
    "    print(\"El punto \"+ str(p) + \" se asigna al cluster \"+ str(cs[index][0]))\n",
    "    cs[index][2].append(p)\n",
    "    \n",
    "\n",
    "# Recorrer todos los puntos\n",
    "def asignarTodos(ps, cs):\n",
    "    for i in range(len(ps)):\n",
    "        x = ps[i]\n",
    "        asignar(x, cs)\n",
    "\n",
    "# Recalcular centroide\n",
    "def ajustarCentroide(clstr):\n",
    "    name = clstr[0]\n",
    "    ptos = clstr[2]\n",
    "    print(\"Ajustando centroide cluster\", name)\n",
    "    sx = 0\n",
    "    sy = 0\n",
    "    n = len(ptos)\n",
    "    for i in range(n):\n",
    "        print(str(ptos[i]))\n",
    "        sx = sx + ptos[i][0]\n",
    "        sy = sy + ptos[i][1]\n",
    "    print(sx, sy)\n",
    "    new_x = sx/n\n",
    "    new_y = sy/n\n",
    "    print(\"Nuevo centroide\", str((new_x, new_y)))\n",
    "\n",
    "# Recalcular centroides\n",
    "def ajustarTodosCentroides(cs):\n",
    "    for i in range(len(cs)):\n",
    "        x = cs[i]\n",
    "        ajustarCentroide(x)"
   ]
  },
  {
   "cell_type": "code",
   "execution_count": 88,
   "metadata": {},
   "outputs": [
    {
     "name": "stdout",
     "output_type": "stream",
     "text": [
      "El punto (25, 125) se asigna al cluster c1\n",
      "El punto (44, 105) se asigna al cluster c2\n",
      "El punto (29, 97) se asigna al cluster c3\n",
      "El punto (35, 63) se asigna al cluster c4\n",
      "El punto (55, 63) se asigna al cluster c5\n",
      "El punto (42, 57) se asigna al cluster c6\n",
      "El punto (23, 40) se asigna al cluster c7\n",
      "El punto (64, 37) se asigna al cluster c8\n",
      "El punto (33, 22) se asigna al cluster c9\n",
      "El punto (55, 20) se asigna al cluster c10\n",
      "El punto (28, 145) se asigna al cluster c1\n",
      "El punto (65, 140) se asigna al cluster c2\n",
      "El punto (50, 130) se asigna al cluster c1\n",
      "El punto (38, 115) se asigna al cluster c2\n",
      "El punto (55, 118) se asigna al cluster c2\n",
      "El punto (50, 90) se asigna al cluster c2\n",
      "El punto (63, 88) se asigna al cluster c2\n",
      "El punto (43, 83) se asigna al cluster c3\n",
      "El punto (50, 60) se asigna al cluster c5\n",
      "El punto (50, 30) se asigna al cluster c10\n"
     ]
    },
    {
     "data": {
      "text/plain": [
       "[('c1', (25, 125), [(25, 125), (28, 145), (50, 130)]),\n",
       " ('c2',\n",
       "  (44, 105),\n",
       "  [(44, 105), (65, 140), (38, 115), (55, 118), (50, 90), (63, 88)]),\n",
       " ('c3', (29, 97), [(29, 97), (43, 83)]),\n",
       " ('c4', (35, 63), [(35, 63)]),\n",
       " ('c5', (55, 63), [(55, 63), (50, 60)]),\n",
       " ('c6', (42, 57), [(42, 57)]),\n",
       " ('c7', (23, 40), [(23, 40)]),\n",
       " ('c8', (64, 37), [(64, 37)]),\n",
       " ('c9', (33, 22), [(33, 22)]),\n",
       " ('c10', (55, 20), [(55, 20), (50, 30)])]"
      ]
     },
     "execution_count": 88,
     "metadata": {},
     "output_type": "execute_result"
    }
   ],
   "source": [
    "asignarTodos(pp, clusters)\n",
    "clusters"
   ]
  },
  {
   "cell_type": "code",
   "execution_count": 89,
   "metadata": {},
   "outputs": [
    {
     "name": "stdout",
     "output_type": "stream",
     "text": [
      "Ajustando centroide cluster c1\n",
      "(25, 125)\n",
      "(28, 145)\n",
      "(50, 130)\n",
      "103 400\n",
      "Nuevo centroide (34.333333333333336, 133.33333333333334)\n",
      "Ajustando centroide cluster c2\n",
      "(44, 105)\n",
      "(65, 140)\n",
      "(38, 115)\n",
      "(55, 118)\n",
      "(50, 90)\n",
      "(63, 88)\n",
      "315 656\n",
      "Nuevo centroide (52.5, 109.33333333333333)\n",
      "Ajustando centroide cluster c3\n",
      "(29, 97)\n",
      "(43, 83)\n",
      "72 180\n",
      "Nuevo centroide (36.0, 90.0)\n",
      "Ajustando centroide cluster c4\n",
      "(35, 63)\n",
      "35 63\n",
      "Nuevo centroide (35.0, 63.0)\n",
      "Ajustando centroide cluster c5\n",
      "(55, 63)\n",
      "(50, 60)\n",
      "105 123\n",
      "Nuevo centroide (52.5, 61.5)\n",
      "Ajustando centroide cluster c6\n",
      "(42, 57)\n",
      "42 57\n",
      "Nuevo centroide (42.0, 57.0)\n",
      "Ajustando centroide cluster c7\n",
      "(23, 40)\n",
      "23 40\n",
      "Nuevo centroide (23.0, 40.0)\n",
      "Ajustando centroide cluster c8\n",
      "(64, 37)\n",
      "64 37\n",
      "Nuevo centroide (64.0, 37.0)\n",
      "Ajustando centroide cluster c9\n",
      "(33, 22)\n",
      "33 22\n",
      "Nuevo centroide (33.0, 22.0)\n",
      "Ajustando centroide cluster c10\n",
      "(55, 20)\n",
      "(50, 30)\n",
      "105 50\n",
      "Nuevo centroide (52.5, 25.0)\n"
     ]
    }
   ],
   "source": [
    "ajustarTodosCentroides(clusters)"
   ]
  },
  {
   "cell_type": "code",
   "execution_count": 90,
   "metadata": {},
   "outputs": [],
   "source": [
    "clusters2 = [(\"c1\", (34.33, 133.33), []),\\\n",
    "           (\"c2\", (52.5, 109.33), []),\\\n",
    "           (\"c3\", (36.0, 90.0), []),\\\n",
    "           (\"c4\", (35.0, 63.0), []),\\\n",
    "           (\"c5\", (52.5, 61.5), []),\\\n",
    "           (\"c6\", (42.0, 57.0), []),\\\n",
    "           (\"c7\", (23.0, 40.0), []),\\\n",
    "           (\"c8\", (64.0, 37.0), []),\\\n",
    "           (\"c9\", (33.0, 22.0), []),\\\n",
    "           (\"c10\", (52.5, 25.0), [])] "
   ]
  },
  {
   "cell_type": "code",
   "execution_count": 91,
   "metadata": {},
   "outputs": [
    {
     "name": "stdout",
     "output_type": "stream",
     "text": [
      "El punto (25, 125) se asigna al cluster c1\n",
      "El punto (44, 105) se asigna al cluster c2\n",
      "El punto (29, 97) se asigna al cluster c3\n",
      "El punto (35, 63) se asigna al cluster c4\n",
      "El punto (55, 63) se asigna al cluster c5\n",
      "El punto (42, 57) se asigna al cluster c6\n",
      "El punto (23, 40) se asigna al cluster c7\n",
      "El punto (64, 37) se asigna al cluster c8\n",
      "El punto (33, 22) se asigna al cluster c9\n",
      "El punto (55, 20) se asigna al cluster c10\n",
      "El punto (28, 145) se asigna al cluster c1\n",
      "El punto (65, 140) se asigna al cluster c1\n",
      "El punto (50, 130) se asigna al cluster c1\n",
      "El punto (38, 115) se asigna al cluster c2\n",
      "El punto (55, 118) se asigna al cluster c2\n",
      "El punto (50, 90) se asigna al cluster c3\n",
      "El punto (63, 88) se asigna al cluster c2\n",
      "El punto (43, 83) se asigna al cluster c3\n",
      "El punto (50, 60) se asigna al cluster c5\n",
      "El punto (50, 30) se asigna al cluster c10\n"
     ]
    },
    {
     "data": {
      "text/plain": [
       "[('c1', (34.33, 133.33), [(25, 125), (28, 145), (65, 140), (50, 130)]),\n",
       " ('c2', (52.5, 109.33), [(44, 105), (38, 115), (55, 118), (63, 88)]),\n",
       " ('c3', (36.0, 90.0), [(29, 97), (50, 90), (43, 83)]),\n",
       " ('c4', (35.0, 63.0), [(35, 63)]),\n",
       " ('c5', (52.5, 61.5), [(55, 63), (50, 60)]),\n",
       " ('c6', (42.0, 57.0), [(42, 57)]),\n",
       " ('c7', (23.0, 40.0), [(23, 40)]),\n",
       " ('c8', (64.0, 37.0), [(64, 37)]),\n",
       " ('c9', (33.0, 22.0), [(33, 22)]),\n",
       " ('c10', (52.5, 25.0), [(55, 20), (50, 30)])]"
      ]
     },
     "execution_count": 91,
     "metadata": {},
     "output_type": "execute_result"
    }
   ],
   "source": [
    "asignarTodos(pp, clusters2)\n",
    "clusters2"
   ]
  },
  {
   "cell_type": "code",
   "execution_count": null,
   "metadata": {},
   "outputs": [],
   "source": []
  }
 ],
 "metadata": {
  "kernelspec": {
   "display_name": "Python 3",
   "language": "python",
   "name": "python3"
  },
  "language_info": {
   "codemirror_mode": {
    "name": "ipython",
    "version": 3
   },
   "file_extension": ".py",
   "mimetype": "text/x-python",
   "name": "python",
   "nbconvert_exporter": "python",
   "pygments_lexer": "ipython3",
   "version": "3.6.4"
  }
 },
 "nbformat": 4,
 "nbformat_minor": 2
}
