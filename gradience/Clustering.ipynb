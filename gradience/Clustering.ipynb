{
 "cells": [
  {
   "cell_type": "markdown",
   "metadata": {},
   "source": [
    "## 1) Realizar un clustering jerárquico de los siguientes puntos"
   ]
  },
  {
   "cell_type": "code",
   "execution_count": 1,
   "metadata": {},
   "outputs": [],
   "source": [
    "A = (0, 0)\n",
    "B = (10, 10)\n",
    "C = (21, 21)\n",
    "D = (33, 33)\n",
    "E = (5, 27)\n",
    "F = (28, 6)"
   ]
  },
  {
   "cell_type": "code",
   "execution_count": 2,
   "metadata": {},
   "outputs": [],
   "source": [
    "import math\n",
    "\n",
    "def dist(x, y):\n",
    "    d = 0\n",
    "    for c in range(len(x)):\n",
    "        d = d + math.pow((x[c] - y[c]), 2)\n",
    "    return math.sqrt(d)"
   ]
  },
  {
   "cell_type": "code",
   "execution_count": 25,
   "metadata": {},
   "outputs": [
    {
     "name": "stdout",
     "output_type": "stream",
     "text": [
      "dist(A, B) = 14.142135623730951\n",
      "dist(A, C) = 29.698484809834994\n",
      "dist(A, D) = 46.66904755831214\n",
      "dist(A, E) = 27.459060435491963\n",
      "dist(A, F) = 28.635642126552707\n",
      "dist(B, C) = 15.556349186104045\n",
      "dist(B, D) = 32.526911934581186\n",
      "dist(B, E) = 17.72004514666935\n",
      "dist(B, F) = 18.439088914585774\n",
      "dist(C, D) = 16.97056274847714\n",
      "dist(C, E) = 17.08800749063506\n",
      "dist(C, F) = 16.55294535724685\n",
      "dist(D, E) = 28.635642126552707\n",
      "dist(D, F) = 27.459060435491963\n",
      "dist(E, F) = 31.144823004794873\n",
      "##########################\n",
      "('dist(A,A)', 0.0)\n",
      "('dist(B,B)', 0.0)\n",
      "('dist(C,C)', 0.0)\n",
      "('dist(D,D)', 0.0)\n",
      "('dist(E,E)', 0.0)\n",
      "('dist(F,F)', 0.0)\n",
      "('dist(A,B)', 14.142135623730951)\n",
      "('dist(B,C)', 15.556349186104045)\n",
      "('dist(C,F)', 16.55294535724685)\n",
      "('dist(C,D)', 16.97056274847714)\n",
      "('dist(C,E)', 17.08800749063506)\n",
      "('dist(B,E)', 17.72004514666935)\n",
      "('dist(B,F)', 18.439088914585774)\n",
      "('dist(A,E)', 27.459060435491963)\n",
      "('dist(D,F)', 27.459060435491963)\n",
      "('dist(A,F)', 28.635642126552707)\n",
      "('dist(D,E)', 28.635642126552707)\n",
      "('dist(A,C)', 29.698484809834994)\n",
      "('dist(E,F)', 31.144823004794873)\n",
      "('dist(B,D)', 32.526911934581186)\n",
      "('dist(A,D)', 46.66904755831214)\n"
     ]
    }
   ],
   "source": [
    "l = [A, B, C, D, E, F]\n",
    "\n",
    "def calcDis(ptos):\n",
    "    d = []\n",
    "    letters = [\"A\", \"B\", \"C\", \"D\", \"E\", \"F\"]\n",
    "    for i in range(len(ptos)):\n",
    "        fromP = letters[i]\n",
    "        x = ptos[i]\n",
    "        for j in range(len(ptos) - i):\n",
    "            j = j + i\n",
    "            toP = letters[j]\n",
    "            y = ptos[j]\n",
    "            e = (\"dist(\"+ fromP + \",\" + toP + \")\", dist(x, y))\n",
    "            d.append(e)\n",
    "    ordered = sorted(d, key=lambda tup: tup[1])\n",
    "    for i in range(len(ordered)):\n",
    "        print(ordered[i])\n",
    "        \n",
    "        \n",
    "print(\"dist(A, B) =\", dist(A, B))\n",
    "print(\"dist(A, C) =\", dist(A, C))\n",
    "print(\"dist(A, D) =\", dist(A, D))\n",
    "print(\"dist(A, E) =\", dist(A, E))\n",
    "print(\"dist(A, F) =\", dist(A, F))\n",
    "print(\"dist(B, C) =\", dist(B, C))\n",
    "print(\"dist(B, D) =\", dist(B, D))\n",
    "print(\"dist(B, E) =\", dist(B, E))\n",
    "print(\"dist(B, F) =\", dist(B, F))\n",
    "print(\"dist(C, D) =\", dist(C, D))\n",
    "print(\"dist(C, E) =\", dist(C, E))\n",
    "print(\"dist(C, F) =\", dist(C, F))\n",
    "print(\"dist(D, E) =\", dist(D, E))\n",
    "print(\"dist(D, F) =\", dist(D, F))\n",
    "print(\"dist(E, F) =\", dist(E, F))\n",
    "print(\"##########################\")\n",
    "calcDis(l)"
   ]
  },
  {
   "cell_type": "markdown",
   "metadata": {},
   "source": [
    "## 2) Clusteroide \n",
    "Un clusteroide es un centroide que a su vez es tambien un punto del cluster. Suponga que el clusteroide de un cluster se define como el punto que tiene la mínima suma de los cuadrados de las distancias entre todos los puntos del cluster. Dados los siguientes puntos: a = (1,6); b = (3,7); c = (4,3); d = (7,7), e = (8,2); f = (9,5). Identificar cual de las opciones es la correcta."
   ]
  },
  {
   "cell_type": "code",
   "execution_count": 31,
   "metadata": {},
   "outputs": [
    {
     "name": "stdout",
     "output_type": "stream",
     "text": [
      "El clusteroide de {c,d,e,f} es\n",
      "('pto=f', 47.0)\n",
      "('pto=e', 53.0)\n",
      "('pto=d', 59.0)\n",
      "('pto=c', 71.0)\n",
      "##########################\n",
      "El clusteroide de {a,b,c,d} es\n",
      "('pto=b', 38.0)\n",
      "('pto=a', 59.999999999999986)\n",
      "('pto=c', 60.0)\n",
      "('pto=d', 78.0)\n",
      "##########################\n",
      "El clusteroide de {b,c,d,e} es\n",
      "('pto=c', 59.0)\n",
      "('pto=d', 67.0)\n",
      "('pto=b', 83.0)\n",
      "('pto=e', 93.0)\n",
      "##########################\n",
      "El clusteroide de {a,b,e,f} es\n",
      "('pto=b', 95.00000000000001)\n",
      "('pto=f', 115.0)\n",
      "('pto=e', 125.0)\n",
      "('pto=a', 134.99999999999997)\n"
     ]
    }
   ],
   "source": [
    "import math\n",
    "\n",
    "a = (\"a\", (1,6))\n",
    "b = (\"b\", (3,7))\n",
    "c = (\"c\", (4,3))\n",
    "d = (\"d\", (7,7))\n",
    "e = (\"e\", (8,2))\n",
    "f = (\"f\", (9,5))\n",
    "\n",
    "def caclCentroide(ptos):\n",
    "    d = []\n",
    "    for i in range(len(ptos)):\n",
    "        total = 0\n",
    "        fromP = ptos[i][0]\n",
    "        x = ptos[i][1]\n",
    "        for j in range(len(ptos)):\n",
    "            toP = ptos[j][0]\n",
    "            y = ptos[j][1]\n",
    "            dd = dist(x, y)\n",
    "            total = total + math.pow(dd, 2)\n",
    "        e = (\"pto=\"+ fromP, total)\n",
    "        d.append(e)\n",
    "    ordered = sorted(d, key=lambda tup: tup[1])\n",
    "    for i in range(len(ordered)):\n",
    "        print(ordered[i])\n",
    "\n",
    "op1 = [c,d,e,f]\n",
    "op2 = [a,b,c,d]\n",
    "op3 = [b,c,d,e]\n",
    "op4 = [a,b,e,f]\n",
    "\n",
    "print(\"El clusteroide de {c,d,e,f} es\")\n",
    "caclCentroide(op1)\n",
    "print(\"##########################\")\n",
    "print(\"El clusteroide de {a,b,c,d} es\")\n",
    "caclCentroide(op2)\n",
    "print(\"##########################\")\n",
    "print(\"El clusteroide de {b,c,d,e} es\")\n",
    "caclCentroide(op3)\n",
    "print(\"##########################\")\n",
    "print(\"El clusteroide de {a,b,e,f} es\")\n",
    "caclCentroide(op4)"
   ]
  },
  {
   "cell_type": "markdown",
   "metadata": {},
   "source": [
    "## 5) Queremos generar 10 clusters. \n",
    "(k=10). Los 10 puntos de color verde son los centroides(clusteroides) se pide asignar cada uno de los puntos dorados al centroide mas cercano y luego recalcular los centroides de cada cluster. Verificar si luego de recalcular los centroides alguno de los puntos previamente asignados cambia de cluster. Por favor notar que las escalas de los ejes son diferentes asi que hace falta hacer las cuentas para calcular las distancias."
   ]
  },
  {
   "cell_type": "code",
   "execution_count": 38,
   "metadata": {},
   "outputs": [],
   "source": [
    "clusters = [(\"c1\", (22, 125), [(22, 125)]),\\\n",
    "           (\"c2\", (44, 105), [(44, 105)]),\\\n",
    "           (\"c3\", (29, 97), [(29, 97)]),\\\n",
    "           (\"c4\", (35, 63), [(35, 63)]),\\\n",
    "           (\"c5\", (55, 63), [(55, 63)]),\\\n",
    "           (\"c6\", (42, 57), [(42, 57)]),\\\n",
    "           (\"c7\", (23, 40), [(23, 40)]),\\\n",
    "           (\"c8\", (64, 37), [(64, 37)]),\\\n",
    "           (\"c9\", (33, 22), [(33, 22)]),\\\n",
    "           (\"c10\", (55, 20), [(55, 20)])] \n",
    "\n",
    "pp = [(22, 145),\\\n",
    "     (65, 140),\\\n",
    "     (50, 130),\\\n",
    "     (38, 115),\\\n",
    "     (55, 118),\\\n",
    "     (50, 90),\\\n",
    "     (63, 88),\\\n",
    "     (43, 83),\\\n",
    "     (50, 60),\\\n",
    "     (50, 30)]"
   ]
  },
  {
   "cell_type": "code",
   "execution_count": 43,
   "metadata": {},
   "outputs": [],
   "source": [
    "# Asignar cada uno de los puntos dorados al centroide mas cercano\n",
    "def asignar(p, cs):\n",
    "    minDist = 1000\n",
    "    index = 0\n",
    "    # Voy a calcular la distancia de p a todos los centroides\n",
    "    for i in range(len(cs)):\n",
    "        centroide = cs[i][1]\n",
    "        d = dist(p, centroide)\n",
    "        if (d < minDist):\n",
    "            minDist = d\n",
    "            index = i\n",
    "    # Al final asigno p al cluster de menor distancia\n",
    "    cs[index][2].append(p)\n",
    "    \n",
    "\n",
    "# Recorrer todos los puntos\n",
    "def asignarTodos(ps, cs):\n",
    "    for i in range(len(ps)):\n",
    "        x = ps[i]\n",
    "        asignar(x, cs)\n",
    "\n"
   ]
  },
  {
   "cell_type": "code",
   "execution_count": 44,
   "metadata": {},
   "outputs": [
    {
     "data": {
      "text/plain": [
       "[('c1', (22, 125), [(22, 125), (22, 145)]),\n",
       " ('c2',\n",
       "  (44, 105),\n",
       "  [(44, 105), (65, 140), (50, 130), (38, 115), (55, 118), (50, 90), (63, 88)]),\n",
       " ('c3', (29, 97), [(29, 97), (43, 83)]),\n",
       " ('c4', (35, 63), [(35, 63)]),\n",
       " ('c5', (55, 63), [(55, 63), (50, 60)]),\n",
       " ('c6', (42, 57), [(42, 57)]),\n",
       " ('c7', (23, 40), [(23, 40)]),\n",
       " ('c8', (64, 37), [(64, 37)]),\n",
       " ('c9', (33, 22), [(33, 22)]),\n",
       " ('c10', (55, 20), [(55, 20), (50, 30)])]"
      ]
     },
     "execution_count": 44,
     "metadata": {},
     "output_type": "execute_result"
    }
   ],
   "source": [
    "asignarTodos(pp, clusters)\n",
    "clusters"
   ]
  },
  {
   "cell_type": "code",
   "execution_count": null,
   "metadata": {},
   "outputs": [],
   "source": []
  }
 ],
 "metadata": {
  "kernelspec": {
   "display_name": "Python 3",
   "language": "python",
   "name": "python3"
  },
  "language_info": {
   "codemirror_mode": {
    "name": "ipython",
    "version": 3
   },
   "file_extension": ".py",
   "mimetype": "text/x-python",
   "name": "python",
   "nbconvert_exporter": "python",
   "pygments_lexer": "ipython3",
   "version": "3.6.4"
  }
 },
 "nbformat": 4,
 "nbformat_minor": 2
}
