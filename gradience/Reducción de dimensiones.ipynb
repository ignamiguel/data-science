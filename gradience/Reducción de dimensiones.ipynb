{
 "cells": [
  {
   "cell_type": "markdown",
   "metadata": {},
   "source": [
    "# PCA\n",
    "Tenemos 4 puntos en 5 dimensiones representados por la siguiente matriz: \n",
    "\n",
    "<pre>\n",
    "1\t6\t2\t3\t2\n",
    "3\t4\t6\t1\t2\n",
    "5\t1\t10\t4\t2\n",
    "6\t0\t11\t2\t2\n",
    "</pre>\n",
    "\n",
    "Calcular la matriz de covarianza y aplicar PCA"
   ]
  },
  {
   "cell_type": "code",
   "execution_count": 6,
   "metadata": {},
   "outputs": [],
   "source": [
    "%matplotlib inline\n",
    "from sklearn.datasets import fetch_mldata\n",
    "from sklearn.decomposition import PCA\n",
    "import numpy as np\n",
    "import matplotlib.pyplot as plt\n",
    "from sklearn.preprocessing import StandardScaler\n",
    "\n",
    "import warnings\n",
    "warnings.filterwarnings('ignore')"
   ]
  },
  {
   "cell_type": "code",
   "execution_count": 3,
   "metadata": {},
   "outputs": [],
   "source": [
    "data = [[1, 6, 2, 3, 2], [3, 4, 6, 1, 2], [5, 1, 10 ,4, 2], [6, 0, 11, 2, 2]]"
   ]
  },
  {
   "cell_type": "code",
   "execution_count": 4,
   "metadata": {},
   "outputs": [
    {
     "data": {
      "text/plain": [
       "[[1, 6, 2, 3, 2], [3, 4, 6, 1, 2], [5, 1, 10, 4, 2], [6, 0, 11, 2, 2]]"
      ]
     },
     "execution_count": 4,
     "metadata": {},
     "output_type": "execute_result"
    }
   ],
   "source": [
    "data"
   ]
  },
  {
   "cell_type": "markdown",
   "metadata": {},
   "source": [
    "# Aplicando PCA"
   ]
  },
  {
   "cell_type": "code",
   "execution_count": 5,
   "metadata": {},
   "outputs": [],
   "source": [
    "# http://scikit-learn.org/stable/modules/generated/sklearn.decomposition.PCA.html\n",
    "explained_variance = .95\n",
    "pca = PCA(explained_variance)"
   ]
  },
  {
   "cell_type": "code",
   "execution_count": 6,
   "metadata": {},
   "outputs": [],
   "source": [
    "# realizamos una reduccion de dimensiones\n",
    "lower_dimensional_data = pca.fit_transform(data)"
   ]
  },
  {
   "cell_type": "code",
   "execution_count": 8,
   "metadata": {},
   "outputs": [],
   "source": [
    "principal_components = pca.n_components_\n"
   ]
  },
  {
   "cell_type": "code",
   "execution_count": 9,
   "metadata": {},
   "outputs": [
    {
     "data": {
      "text/plain": [
       "array([[ 6.74099246, -0.68376928],\n",
       "       [ 1.92632049,  1.4731224 ],\n",
       "       [-3.52194195, -1.41055566],\n",
       "       [-5.145371  ,  0.62120253]])"
      ]
     },
     "execution_count": 9,
     "metadata": {},
     "output_type": "execute_result"
    }
   ],
   "source": [
    "lower_dimensional_data"
   ]
  },
  {
   "cell_type": "code",
   "execution_count": 16,
   "metadata": {},
   "outputs": [],
   "source": [
    "covarianza = np.cov(data)"
   ]
  },
  {
   "cell_type": "code",
   "execution_count": 17,
   "metadata": {},
   "outputs": [
    {
     "data": {
      "text/plain": [
       "array([[ 3.7 ,  0.3 , -3.65, -5.2 ],\n",
       "       [ 0.3 ,  3.7 ,  4.15,  5.7 ],\n",
       "       [-3.65,  4.15, 12.3 , 14.9 ],\n",
       "       [-5.2 ,  5.7 , 14.9 , 19.2 ]])"
      ]
     },
     "execution_count": 17,
     "metadata": {},
     "output_type": "execute_result"
    }
   ],
   "source": [
    "covarianza"
   ]
  },
  {
   "cell_type": "code",
   "execution_count": 18,
   "metadata": {},
   "outputs": [],
   "source": [
    "pca_c = pca.fit_transform(covarianza)"
   ]
  },
  {
   "cell_type": "code",
   "execution_count": 19,
   "metadata": {},
   "outputs": [
    {
     "data": {
      "text/plain": [
       "array([[ 18.37335339],\n",
       "       [  4.20944876],\n",
       "       [ -8.59175032],\n",
       "       [-13.99105182]])"
      ]
     },
     "execution_count": 19,
     "metadata": {},
     "output_type": "execute_result"
    }
   ],
   "source": [
    "pca_c"
   ]
  },
  {
   "cell_type": "markdown",
   "metadata": {},
   "source": [
    "# Calculando la descomposicion SVD con scipy"
   ]
  },
  {
   "cell_type": "code",
   "execution_count": 1,
   "metadata": {},
   "outputs": [],
   "source": [
    "# usaremos la implementacion base de svd\n",
    "from scipy.linalg import svd # https://docs.scipy.org/doc/scipy/reference/generated/scipy.linalg.svd.html\n",
    "# por otro lado hay otras opciones como svds \n",
    "# https://docs.scipy.org/doc/scipy/reference/generated/scipy.sparse.linalg.svds.html \n",
    "from scipy.sparse.linalg import svds\n",
    "# la usaremos para verificar el calculo de autovalores/eigenvalues\n",
    "# https://docs.scipy.org/doc/scipy/reference/generated/scipy.sparse.linalg.eigs.html\n",
    "from scipy.sparse.linalg import eigs"
   ]
  },
  {
   "cell_type": "code",
   "execution_count": 11,
   "metadata": {},
   "outputs": [],
   "source": [
    "# calculamos la svd\n",
    "u, s, vt = svd(data)"
   ]
  },
  {
   "cell_type": "code",
   "execution_count": 12,
   "metadata": {},
   "outputs": [
    {
     "data": {
      "text/plain": [
       "(4, 4)"
      ]
     },
     "execution_count": 12,
     "metadata": {},
     "output_type": "execute_result"
    }
   ],
   "source": [
    "u.shape"
   ]
  },
  {
   "cell_type": "code",
   "execution_count": 13,
   "metadata": {},
   "outputs": [
    {
     "data": {
      "text/plain": [
       "array([[-0.22116432, -0.85013696,  0.26640324, -0.39671501],\n",
       "       [-0.39157469, -0.34342534, -0.70567948,  0.48035899],\n",
       "       [-0.61644331,  0.12606306,  0.6092386 ,  0.48263245],\n",
       "       [-0.64633834,  0.37872719, -0.24469185, -0.61557969]])"
      ]
     },
     "execution_count": 13,
     "metadata": {},
     "output_type": "execute_result"
    }
   ],
   "source": [
    "u"
   ]
  },
  {
   "cell_type": "code",
   "execution_count": 14,
   "metadata": {},
   "outputs": [
    {
     "data": {
      "text/plain": [
       "array([19.42929757,  6.97741707,  2.17516297,  0.2944707 ])"
      ]
     },
     "execution_count": 14,
     "metadata": {},
     "output_type": "execute_result"
    }
   ],
   "source": [
    "s"
   ]
  },
  {
   "cell_type": "code",
   "execution_count": 15,
   "metadata": {},
   "outputs": [
    {
     "data": {
      "text/plain": [
       "array([[-0.43007911, -0.18064101, -0.82689205, -0.24774532, -0.19306109],\n",
       "       [ 0.14651059, -0.90985819,  0.23874218, -0.23391601, -0.19742895],\n",
       "       [-0.12532088, -0.28276496, -0.13814818,  0.93836691, -0.06871163],\n",
       "       [-0.80128164,  0.08074946,  0.48789833, -0.03537073, -0.33486025],\n",
       "       [-0.36852275, -0.23032672,  0.04606534, -0.04606534,  0.89827421]])"
      ]
     },
     "execution_count": 15,
     "metadata": {},
     "output_type": "execute_result"
    }
   ],
   "source": [
    "vt"
   ]
  },
  {
   "cell_type": "markdown",
   "metadata": {},
   "source": [
    "## Sea la siguiente matriz de 5x4:\n",
    "<pre>\n",
    "3\t1\t1\t0\n",
    "2\t1\t0\t2\n",
    "3\t3\t0\t1\n",
    "0\t1\t2\t0\n",
    "2\t0\t2\t2\n",
    "</pre>\n",
    "\n",
    "Calcular la SVD de la matriz y luego identificar la opción correcta entre las siguientes:\n",
    "\n",
    "a) El vector principal de la base es [-0.77,-0.45,-0.25,-0.36]\n",
    "\n",
    "b) Reduciendo la matriz a 2 dimensiones tres puntos del set original quedan muy juntos formando un cluster.\n",
    "\n",
    "c) El cuarto punto reducido a 3 dimensiones es [-0.15,-0.44,0]\n",
    "\n",
    "d) El valor singular mas importante es 1.51"
   ]
  },
  {
   "cell_type": "code",
   "execution_count": 2,
   "metadata": {},
   "outputs": [],
   "source": [
    "m = [[3, 1, 1, 0], [2, 1, 0, 2], [3, 3, 0, 1], [0, 1, 2, 0], [2, 0, 2, 2]]"
   ]
  },
  {
   "cell_type": "code",
   "execution_count": 3,
   "metadata": {},
   "outputs": [],
   "source": [
    "# calculamos la svd\n",
    "u, s, vt = svd(m)"
   ]
  },
  {
   "cell_type": "code",
   "execution_count": 8,
   "metadata": {},
   "outputs": [
    {
     "name": "stdout",
     "output_type": "stream",
     "text": [
      "[[-0.46968068  0.00570064 -0.3083355   0.77855809 -0.27954262]\n",
      " [-0.42262917  0.06403416  0.54753326 -0.27696589 -0.66391373]\n",
      " [-0.62711442  0.54488918 -0.19579499 -0.30929506  0.41931393]\n",
      " [-0.14849486 -0.44030138 -0.68185617 -0.46931336 -0.31448545]\n",
      " [-0.43065233 -0.71070219  0.31917556  0.03491026  0.45425676]]\n"
     ]
    }
   ],
   "source": [
    "print(u)"
   ]
  },
  {
   "cell_type": "code",
   "execution_count": 7,
   "metadata": {},
   "outputs": [
    {
     "name": "stdout",
     "output_type": "stream",
     "text": [
      "[6.45017782 2.74947668 2.13135033 1.51424231]\n"
     ]
    }
   ],
   "source": [
    "print(s)"
   ]
  },
  {
   "cell_type": "code",
   "execution_count": 9,
   "metadata": {},
   "outputs": [
    {
     "name": "stdout",
     "output_type": "stream",
     "text": [
      "[[-0.77469931 -0.45303371 -0.25239228 -0.36180048]\n",
      " [ 0.13036423  0.45976057 -0.83517948 -0.2722143 ]\n",
      " [ 0.10370242 -0.48328205 -0.48499616  0.72143121]\n",
      " [ 0.60999341 -0.5914551  -0.05959952 -0.52396259]]\n"
     ]
    }
   ],
   "source": [
    "print(vt)"
   ]
  },
  {
   "cell_type": "code",
   "execution_count": 4,
   "metadata": {},
   "outputs": [
    {
     "data": {
      "text/plain": [
       "57.23635208501677"
      ]
     },
     "execution_count": 4,
     "metadata": {},
     "output_type": "execute_result"
    }
   ],
   "source": [
    "from functools import reduce\n",
    "reduce(lambda x, y: x*y, s)\n"
   ]
  },
  {
   "cell_type": "code",
   "execution_count": 7,
   "metadata": {},
   "outputs": [],
   "source": [
    "x = [[1,6,2,3,2], [3,4,6,1,2], [5,1,10,4,2],[6,0,11,2,2]]\n",
    "x = StandardScaler().fit_transform(x)\n",
    "cov_matrix = 1/4*np.dot(x.transpose(), x)"
   ]
  },
  {
   "cell_type": "code",
   "execution_count": 8,
   "metadata": {},
   "outputs": [
    {
     "data": {
      "text/plain": [
       "array([[ 1.        , -0.99626795,  0.99598426,  0.05822225,  0.        ],\n",
       "       [-0.99626795,  1.        , -0.99326482, -0.14064217,  0.        ],\n",
       "       [ 0.99598426, -0.99326482,  1.        ,  0.09416472,  0.        ],\n",
       "       [ 0.05822225, -0.14064217,  0.09416472,  1.        ,  0.        ],\n",
       "       [ 0.        ,  0.        ,  0.        ,  0.        ,  0.        ]])"
      ]
     },
     "execution_count": 8,
     "metadata": {},
     "output_type": "execute_result"
    }
   ],
   "source": [
    "cov_matrix"
   ]
  },
  {
   "cell_type": "code",
   "execution_count": null,
   "metadata": {},
   "outputs": [],
   "source": []
  }
 ],
 "metadata": {
  "kernelspec": {
   "display_name": "Python 3",
   "language": "python",
   "name": "python3"
  },
  "language_info": {
   "codemirror_mode": {
    "name": "ipython",
    "version": 3
   },
   "file_extension": ".py",
   "mimetype": "text/x-python",
   "name": "python",
   "nbconvert_exporter": "python",
   "pygments_lexer": "ipython3",
   "version": "3.6.4"
  }
 },
 "nbformat": 4,
 "nbformat_minor": 2
}
