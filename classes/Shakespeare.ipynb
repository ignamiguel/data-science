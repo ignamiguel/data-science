{
 "cells": [
  {
   "cell_type": "markdown",
   "metadata": {},
   "source": [
    "Week2: Shakespeare\n",
    "==================\n",
    "\n",
    "Cargamos las obras completas de Shakespeare y obtenemos algunos datos sobre las mismas como la cantidad de registros, los primeros registros, etc.\n"
   ]
  },
  {
   "cell_type": "code",
   "execution_count": 1,
   "metadata": {},
   "outputs": [
    {
     "name": "stdout",
     "output_type": "stream",
     "text": [
      "('a', 3, 'b', 5, 'a', 6)\n"
     ]
    }
   ],
   "source": [
    "lista = [('a',3),('b',5),('a',6)]\n",
    "rdd1 = sc.parallelize(lista,2)\n",
    "rdd1.collect()\n",
    "print rdd1.reduce(lambda x,y:x+y)"
   ]
  },
  {
   "cell_type": "code",
   "execution_count": 11,
   "metadata": {},
   "outputs": [
    {
     "name": "stdout",
     "output_type": "stream",
     "text": [
      "68116\n"
     ]
    },
    {
     "data": {
      "text/plain": [
       "[u'The Project Gutenberg EBook of Les Miserables, by Victor Hugo',\n",
       " u'',\n",
       " u'This eBook is for the use of anyone anywhere at no cost and with',\n",
       " u'almost no restrictions whatsoever.  You may copy it, give it away or',\n",
       " u're-use it under the terms of the Project Gutenberg License included',\n",
       " u'with this eBook or online at www.gutenberg.org',\n",
       " u'',\n",
       " u'',\n",
       " u'Title: Les Miserables',\n",
       " u'       Complete in Five Volumes',\n",
       " u'',\n",
       " u'Author: Victor Hugo',\n",
       " u'',\n",
       " u'Translator: Isabel F. Hapgood',\n",
       " u'']"
      ]
     },
     "execution_count": 11,
     "metadata": {},
     "output_type": "execute_result"
    }
   ],
   "source": [
    "import os.path\n",
    "\n",
    "shakespeareRDD = sc.textFile('data/shakespeare/pg135.txt', 8)\n",
    "#shakespeareRDD = shakespeareRDD.zipWithIndex()\n",
    "print shakespeareRDD.count()  \n",
    "shakespeareRDD.take(15)"
   ]
  },
  {
   "cell_type": "code",
   "execution_count": 10,
   "metadata": {},
   "outputs": [
    {
     "name": "stdout",
     "output_type": "stream",
     "text": [
      "hi you    mmm\n"
     ]
    },
    {
     "data": {
      "text/plain": [
       "[u'the project gutenberg ebook of les miserables by victor hugo',\n",
       " u'',\n",
       " u'this ebook is for the use of anyone anywhere at no cost and with',\n",
       " u'almost no restrictions whatsoever  you may copy it give it away or',\n",
       " u'reuse it under the terms of the project gutenberg license included',\n",
       " u'with this ebook or online at wwwgutenbergorg',\n",
       " u'',\n",
       " u'',\n",
       " u'title les miserables',\n",
       " u'complete in five volumes',\n",
       " u'',\n",
       " u'author victor hugo',\n",
       " u'',\n",
       " u'translator isabel f hapgood',\n",
       " u'']"
      ]
     },
     "execution_count": 10,
     "metadata": {},
     "output_type": "execute_result"
    }
   ],
   "source": [
    "import re,string\n",
    "def removePunctuation(text):\n",
    "    \"\"\"Removes punctuation, changes to lowercase, and strips leading and trailing spaces.\n",
    "\n",
    "    Note:\n",
    "        Only spaces, letters, and numbers should be retained.  Other characters should should be\n",
    "        eliminated. (e.g. it's becomes its)\n",
    "\n",
    "    Args:\n",
    "        text (str): A string.\n",
    "\n",
    "    Returns:\n",
    "        str: The cleaned up string.\n",
    "    \"\"\"\n",
    "    #exclude = set(string.punctuation)\n",
    "    #text = ''.join(ch for ch in text if ch not in exclude)\n",
    "    text=text.lower().strip(' ')\n",
    "    text=re.sub(r'[^a-zA-Z0-9 ]', '', text)   \n",
    "    return text\n",
    "print removePunctuation('Hi, you!?    \\n\\tmmm')\n",
    "\n",
    "shakespeareRDD = shakespeareRDD.map(removePunctuation)\n",
    "shakespeareRDD.take(15)  "
   ]
  },
  {
   "cell_type": "markdown",
   "metadata": {},
   "source": [
    "Ahora vamos a procesar el RDD realizando un split para obtener las palabras.\n",
    "Filtramos las palabras que son demasiado cortas."
   ]
  },
  {
   "cell_type": "code",
   "execution_count": 11,
   "metadata": {},
   "outputs": [
    {
     "data": {
      "text/plain": [
       "[u'the',\n",
       " u'project',\n",
       " u'gutenberg',\n",
       " u'ebook',\n",
       " u'of',\n",
       " u'les',\n",
       " u'miserables',\n",
       " u'by',\n",
       " u'victor',\n",
       " u'hugo',\n",
       " u'this',\n",
       " u'ebook',\n",
       " u'is',\n",
       " u'for',\n",
       " u'the']"
      ]
     },
     "execution_count": 11,
     "metadata": {},
     "output_type": "execute_result"
    }
   ],
   "source": [
    "wordsRDD = shakespeareRDD.flatMap(lambda x:x.split())\n",
    "wordsRDD = wordsRDD.filter(lambda x: len(x)>0)\n",
    "wordsRDD.take(15)"
   ]
  },
  {
   "cell_type": "markdown",
   "metadata": {},
   "source": [
    "Obtenemos la frecuencia de las palabras"
   ]
  },
  {
   "cell_type": "code",
   "execution_count": 12,
   "metadata": {},
   "outputs": [
    {
     "name": "stdout",
     "output_type": "stream",
     "text": [
      "Total frequency:567954\n",
      "[(u'aided', 4), (u'funereal', 19), (u'promenade', 10), (u'elegances', 2), (u'resist', 14), (u'messalinas', 1), (u'everybody', 17), (u'four', 345), (u'catch', 37), (u'consists', 18)]\n"
     ]
    },
    {
     "data": {
      "text/plain": [
       "[(u'the', 40846),\n",
       " (u'of', 19924),\n",
       " (u'and', 14877),\n",
       " (u'a', 14485),\n",
       " (u'to', 13705),\n",
       " (u'in', 11183),\n",
       " (u'he', 9580),\n",
       " (u'was', 8613),\n",
       " (u'that', 7768),\n",
       " (u'it', 6475),\n",
       " (u'his', 6459),\n",
       " (u'is', 6184),\n",
       " (u'had', 6171),\n",
       " (u'which', 5138),\n",
       " (u'with', 4525)]"
      ]
     },
     "execution_count": 12,
     "metadata": {},
     "output_type": "execute_result"
    }
   ],
   "source": [
    "freqsRDD = wordsRDD.map(lambda x:(x,1))\n",
    "#print freqsRDD.take(10)\n",
    "#total = freqsRDD.map(lambda x:x[1]).reduce(lambda x,y:x+y)\n",
    "total=freqsRDD.count()\n",
    "print \"Total frequency:\"+str(total)\n",
    "#freqsRDD = wordsRDD.map(lambda x:(x,1))\n",
    "#freqsRDD = freqsRDD.reduceByKey(lambda x,y:x+y).map(lambda x:(x[0],100*float(x[1])/total))\n",
    "freqsRDD = freqsRDD.reduceByKey(lambda x,y:x+y)\n",
    "print freqsRDD.take(10)\n",
    "#freqsRDD = freqsRDD.reduceByKey(lambda x,y:x+y)\n",
    "freqsRDD.takeOrdered(15,lambda x:-x[1])"
   ]
  },
  {
   "cell_type": "code",
   "execution_count": 13,
   "metadata": {},
   "outputs": [
    {
     "name": "stdout",
     "output_type": "stream",
     "text": [
      "[u'the', u'of', u'and', u'a', u'to', u'in', u'he', u'was', u'that', u'it', u'his', u'is', u'had', u'which', u'with', u'on', u'at', u'this', u'not', u'you', u'i', u'as', u'one', u'for', u'him', u'have', u'her', u'there', u'who', u'all', u'from', u'she', u'be', u'by', u'are', u'an', u'they', u'but', u'no', u'man']\n"
     ]
    }
   ],
   "source": [
    "# Create a list of StopWords\n",
    "stopWords = freqsRDD.takeOrdered(40,lambda x:-x[1])\n",
    "stopWords = [s[0] for s in stopWords]\n",
    "print stopWords"
   ]
  },
  {
   "cell_type": "code",
   "execution_count": 14,
   "metadata": {},
   "outputs": [
    {
     "name": "stdout",
     "output_type": "stream",
     "text": [
      "[u'the', u'of', u'and', u'a', u'to', u'in', u'he', u'was', u'that', u'it', u'his', u'is', u'had', u'which', u'with', u'on', u'at', u'this', u'not', u'you', u'i', u'as', u'one', u'for', u'him', u'have', u'her', u'there', u'who', u'all', u'from', u'she', u'be', u'by', u'are', u'an', u'they', u'but', u'no', u'man', u'were', u'what', u'said', u'been', u'when', u'marius', u'we', u'their', u'will', u'two']\n",
      "[40846, 19924, 14877, 14485, 13705, 11183, 9580, 8613, 7768, 6475, 6459, 6184, 6171, 5138, 4525, 4462, 4055, 3971, 3799, 3661, 3634, 3253, 3127, 2964, 2923, 2793, 2633, 2615, 2540, 2451, 2447, 2428, 2389, 2382, 2159, 2116, 2113, 2043, 1967, 1899, 1824, 1796, 1791, 1517, 1362, 1352, 1278, 1252, 1226, 1183]\n",
      "[ 0  1  2  3  4  5  6  7  8  9 10 11 12 13 14 15 16 17 18 19 20 21 22 23 24\n",
      " 25 26 27 28 29 30 31 32 33 34 35 36 37 38 39 40 41 42 43 44 45 46 47 48 49]\n"
     ]
    },
    {
     "data": {
      "image/png": "[encoded data removed]",
      "text/plain": [
       "<IPython.core.display.Image object>"
      ]
     },
     "execution_count": 14,
     "metadata": {},
     "output_type": "execute_result"
    }
   ],
   "source": [
    "# ploteamos la distribucion de las palabras\n",
    "import matplotlib.pyplot as plt\n",
    "import numpy as np\n",
    "from IPython.display import Image\n",
    "\n",
    "my_freqs = freqsRDD.takeOrdered(50,lambda x:-x[1])\n",
    "my_words = [i for i,j in my_freqs]\n",
    "my_freqs = [j for i,j in my_freqs]\n",
    "\n",
    "print my_words\n",
    "print my_freqs\n",
    "\n",
    "plt.close()\n",
    "plt.clf()\n",
    "\n",
    "y_pos = np.arange(len(my_words))\n",
    "print y_pos\n",
    "plt.bar(y_pos, my_freqs, alpha=0.5)\n",
    "#plt.xticks(y_pos, my_words)\n",
    "plt.ylabel('Frequency')\n",
    "plt.title('Word')\n",
    " \n",
    "plt.savefig('foobar2.png')\n",
    "Image(\"foobar2.png\")\n",
    "\n"
   ]
  },
  {
   "cell_type": "markdown",
   "metadata": {},
   "source": [
    "Ahora buscamos los bigramas mas populares."
   ]
  },
  {
   "cell_type": "code",
   "execution_count": 15,
   "metadata": {},
   "outputs": [
    {
     "name": "stdout",
     "output_type": "stream",
     "text": [
      "[('hola', 'que'), ('que', 'tal'), ('tal', 'a'), ('a', 'todos')]\n",
      "[(u'the', u'project'), (u'project', u'gutenberg'), (u'gutenberg', u'ebook'), (u'ebook', u'of'), (u'of', u'les'), (u'les', u'miserables'), (u'miserables', u'by'), (u'by', u'victor'), (u'victor', u'hugo'), (u'this', u'ebook')]\n"
     ]
    },
    {
     "data": {
      "text/plain": [
       "[((u'of', u'the'), 5214),\n",
       " ((u'in', u'the'), 3555),\n",
       " ((u'on', u'the'), 1911),\n",
       " ((u'to', u'the'), 1753),\n",
       " ((u'he', u'had'), 1432),\n",
       " ((u'at', u'the'), 1312),\n",
       " ((u'it', u'was'), 1207),\n",
       " ((u'of', u'a'), 1150),\n",
       " ((u'it', u'is'), 1148),\n",
       " ((u'and', u'the'), 1110),\n",
       " ((u'he', u'was'), 1086),\n",
       " ((u'jean', u'valjean'), 961),\n",
       " ((u'in', u'a'), 836),\n",
       " ((u'from', u'the'), 806),\n",
       " ((u'to', u'be'), 785)]"
      ]
     },
     "execution_count": 15,
     "metadata": {},
     "output_type": "execute_result"
    }
   ],
   "source": [
    "def text2bigrams(s):\n",
    "    r = []\n",
    "    l = s.split()\n",
    "    for i in range(0,len(l)-1):\n",
    "        r.append((l[i],l[i+1]))\n",
    "    return r\n",
    "print text2bigrams('hola que tal a todos')\n",
    "bigramsRDD = shakespeareRDD.flatMap(text2bigrams)\n",
    "print bigramsRDD.take(10)\n",
    "bigramsFreq = bigramsRDD.map(lambda x:(x,1)).reduceByKey(lambda x,y:x+y)\n",
    "bigramsFreq.takeOrdered(15,lambda x:-x[1])"
   ]
  },
  {
   "cell_type": "code",
   "execution_count": 16,
   "metadata": {},
   "outputs": [
    {
     "data": {
      "text/plain": [
       "[((u'jean', u'valjean'), 961),\n",
       " ((u'each', u'other'), 212),\n",
       " ((u'more', u'than'), 175),\n",
       " ((u'once', u'more'), 164),\n",
       " ((u'moment', u'when'), 104),\n",
       " ((u'same', u'time'), 97),\n",
       " ((u'young', u'girl'), 66),\n",
       " ((u'madame', u'magloire'), 64),\n",
       " ((u'jean', u'valjeans'), 59),\n",
       " ((u'thousand', u'francs'), 58),\n",
       " ((u'know', u'what'), 57),\n",
       " ((u'hundred', u'francs'), 55),\n",
       " ((u'rather', u'than'), 55),\n",
       " ((u'caught', u'sight'), 49),\n",
       " ((u'dont', u'know'), 49)]"
      ]
     },
     "execution_count": 16,
     "metadata": {},
     "output_type": "execute_result"
    }
   ],
   "source": [
    "# Bigrams without StopWords\n",
    "bigramsFiltered = bigramsFreq.filter(lambda x:x[0][0] not in stopWords and x[0][1] not in stopWords).filter(lambda x:len(x[0][0])>3 and len(x[0][1])>3)\n",
    "bigramsFiltered.takeOrdered(15,lambda x:-x[1])"
   ]
  },
  {
   "cell_type": "code",
   "execution_count": 17,
   "metadata": {},
   "outputs": [
    {
     "name": "stdout",
     "output_type": "stream",
     "text": [
      "[(u'messalinas', 1), (u'originality', 1), (u'auscultation', 1), (u'isome', 1), (u'wellarmed', 1), (u'thenardierwhich', 1), (u'parcroyal', 1), (u'ryssel', 1), (u'pestilential', 1), (u'atiger', 1)]\n"
     ]
    }
   ],
   "source": [
    "# Palabras menos usadas \n",
    "print freqsRDD.takeOrdered(10,lambda x:x[1])"
   ]
  },
  {
   "cell_type": "code",
   "execution_count": null,
   "metadata": {
    "collapsed": true
   },
   "outputs": [],
   "source": []
  }
 ],
 "metadata": {
  "kernelspec": {
   "display_name": "Python 3",
   "language": "python",
   "name": "python3"
  },
  "language_info": {
   "codemirror_mode": {
    "name": "ipython",
    "version": 3
   },
   "file_extension": ".py",
   "mimetype": "text/x-python",
   "name": "python",
   "nbconvert_exporter": "python",
   "pygments_lexer": "ipython3",
   "version": "3.6.4"
  }
 },
 "nbformat": 4,
 "nbformat_minor": 1
}
